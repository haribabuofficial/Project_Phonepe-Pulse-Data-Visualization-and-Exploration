{
 "cells": [
  {
   "cell_type": "code",
   "execution_count": 1,
   "metadata": {},
   "outputs": [],
   "source": [
    "import numpy as np\n",
    "\n",
    "import pandas as pd"
   ]
  },
  {
   "cell_type": "markdown",
   "metadata": {},
   "source": [
    "# DataFrame Creation"
   ]
  },
  {
   "cell_type": "code",
   "execution_count": 4,
   "metadata": {},
   "outputs": [
    {
     "name": "stdout",
     "output_type": "stream",
     "text": [
      "Requirement already satisfied: pymysql in c:\\users\\harish.r\\appdata\\local\\programs\\python\\python313\\lib\\site-packages (1.1.1)\n",
      "Note: you may need to restart the kernel to use updated packages.\n"
     ]
    }
   ],
   "source": [
    "#pip install pymysql"
   ]
  },
  {
   "cell_type": "code",
   "execution_count": 2,
   "metadata": {},
   "outputs": [],
   "source": [
    "import pymysql as sql\n",
    "\n",
    "\n",
    "# sql connection \n",
    "\n",
    "mydb = sql.connect(host=\"localhost\",\n",
    "                   user=\"root\",\n",
    "                   password=\"Iphone6+\",\n",
    "                   database= \"phonepe_data\"\n",
    "                  )\n",
    "cursor = mydb.cursor()#buffered=True)"
   ]
  },
  {
   "cell_type": "markdown",
   "metadata": {},
   "source": [
    "## Aggreagted"
   ]
  },
  {
   "cell_type": "code",
   "execution_count": 3,
   "metadata": {},
   "outputs": [
    {
     "data": {
      "text/html": [
       "<div>\n",
       "<style scoped>\n",
       "    .dataframe tbody tr th:only-of-type {\n",
       "        vertical-align: middle;\n",
       "    }\n",
       "\n",
       "    .dataframe tbody tr th {\n",
       "        vertical-align: top;\n",
       "    }\n",
       "\n",
       "    .dataframe thead th {\n",
       "        text-align: right;\n",
       "    }\n",
       "</style>\n",
       "<table border=\"1\" class=\"dataframe\">\n",
       "  <thead>\n",
       "    <tr style=\"text-align: right;\">\n",
       "      <th></th>\n",
       "      <th>States</th>\n",
       "      <th>Years</th>\n",
       "      <th>Quarter</th>\n",
       "      <th>Transaction_type</th>\n",
       "      <th>Transaction_count</th>\n",
       "      <th>Transaction_amount</th>\n",
       "    </tr>\n",
       "  </thead>\n",
       "  <tbody>\n",
       "    <tr>\n",
       "      <th>0</th>\n",
       "      <td>Andaman &amp; Nicobar</td>\n",
       "      <td>2020</td>\n",
       "      <td>2</td>\n",
       "      <td>Insurance</td>\n",
       "      <td>6</td>\n",
       "      <td>1360</td>\n",
       "    </tr>\n",
       "    <tr>\n",
       "      <th>1</th>\n",
       "      <td>Andaman &amp; Nicobar</td>\n",
       "      <td>2020</td>\n",
       "      <td>3</td>\n",
       "      <td>Insurance</td>\n",
       "      <td>41</td>\n",
       "      <td>15380</td>\n",
       "    </tr>\n",
       "    <tr>\n",
       "      <th>2</th>\n",
       "      <td>Andaman &amp; Nicobar</td>\n",
       "      <td>2020</td>\n",
       "      <td>4</td>\n",
       "      <td>Insurance</td>\n",
       "      <td>124</td>\n",
       "      <td>157975</td>\n",
       "    </tr>\n",
       "    <tr>\n",
       "      <th>3</th>\n",
       "      <td>Andaman &amp; Nicobar</td>\n",
       "      <td>2021</td>\n",
       "      <td>1</td>\n",
       "      <td>Insurance</td>\n",
       "      <td>225</td>\n",
       "      <td>244266</td>\n",
       "    </tr>\n",
       "    <tr>\n",
       "      <th>4</th>\n",
       "      <td>Andaman &amp; Nicobar</td>\n",
       "      <td>2021</td>\n",
       "      <td>2</td>\n",
       "      <td>Insurance</td>\n",
       "      <td>137</td>\n",
       "      <td>181504</td>\n",
       "    </tr>\n",
       "    <tr>\n",
       "      <th>...</th>\n",
       "      <td>...</td>\n",
       "      <td>...</td>\n",
       "      <td>...</td>\n",
       "      <td>...</td>\n",
       "      <td>...</td>\n",
       "      <td>...</td>\n",
       "    </tr>\n",
       "    <tr>\n",
       "      <th>605</th>\n",
       "      <td>West Bengal</td>\n",
       "      <td>2023</td>\n",
       "      <td>2</td>\n",
       "      <td>Insurance</td>\n",
       "      <td>49792</td>\n",
       "      <td>65204280</td>\n",
       "    </tr>\n",
       "    <tr>\n",
       "      <th>606</th>\n",
       "      <td>West Bengal</td>\n",
       "      <td>2023</td>\n",
       "      <td>3</td>\n",
       "      <td>Insurance</td>\n",
       "      <td>58131</td>\n",
       "      <td>76359312</td>\n",
       "    </tr>\n",
       "    <tr>\n",
       "      <th>607</th>\n",
       "      <td>West Bengal</td>\n",
       "      <td>2023</td>\n",
       "      <td>4</td>\n",
       "      <td>Insurance</td>\n",
       "      <td>72712</td>\n",
       "      <td>100365562</td>\n",
       "    </tr>\n",
       "    <tr>\n",
       "      <th>608</th>\n",
       "      <td>West Bengal</td>\n",
       "      <td>2024</td>\n",
       "      <td>1</td>\n",
       "      <td>Insurance</td>\n",
       "      <td>79576</td>\n",
       "      <td>104987909</td>\n",
       "    </tr>\n",
       "    <tr>\n",
       "      <th>609</th>\n",
       "      <td>West Bengal</td>\n",
       "      <td>2024</td>\n",
       "      <td>2</td>\n",
       "      <td>Insurance</td>\n",
       "      <td>67048</td>\n",
       "      <td>89476633</td>\n",
       "    </tr>\n",
       "  </tbody>\n",
       "</table>\n",
       "<p>610 rows × 6 columns</p>\n",
       "</div>"
      ],
      "text/plain": [
       "                States  Years  Quarter Transaction_type  Transaction_count  \\\n",
       "0    Andaman & Nicobar   2020        2        Insurance                  6   \n",
       "1    Andaman & Nicobar   2020        3        Insurance                 41   \n",
       "2    Andaman & Nicobar   2020        4        Insurance                124   \n",
       "3    Andaman & Nicobar   2021        1        Insurance                225   \n",
       "4    Andaman & Nicobar   2021        2        Insurance                137   \n",
       "..                 ...    ...      ...              ...                ...   \n",
       "605        West Bengal   2023        2        Insurance              49792   \n",
       "606        West Bengal   2023        3        Insurance              58131   \n",
       "607        West Bengal   2023        4        Insurance              72712   \n",
       "608        West Bengal   2024        1        Insurance              79576   \n",
       "609        West Bengal   2024        2        Insurance              67048   \n",
       "\n",
       "     Transaction_amount  \n",
       "0                  1360  \n",
       "1                 15380  \n",
       "2                157975  \n",
       "3                244266  \n",
       "4                181504  \n",
       "..                  ...  \n",
       "605            65204280  \n",
       "606            76359312  \n",
       "607           100365562  \n",
       "608           104987909  \n",
       "609            89476633  \n",
       "\n",
       "[610 rows x 6 columns]"
      ]
     },
     "execution_count": 3,
     "metadata": {},
     "output_type": "execute_result"
    }
   ],
   "source": [
    "# aggre_insurance_df\n",
    "\n",
    "cursor.execute(\"SELECT * FROM aggregated_insurance\")\n",
    "\n",
    "mydb.commit()\n",
    "\n",
    "table1 = cursor.fetchall()\n",
    "\n",
    "Aggre_insurance = pd.DataFrame(table1, columns = ['States', 'Years', 'Quarter', 'Transaction_type', 'Transaction_count', 'Transaction_amount'])\n",
    "\n",
    "Aggre_insurance"
   ]
  },
  {
   "cell_type": "code",
   "execution_count": 4,
   "metadata": {},
   "outputs": [
    {
     "data": {
      "text/html": [
       "<div>\n",
       "<style scoped>\n",
       "    .dataframe tbody tr th:only-of-type {\n",
       "        vertical-align: middle;\n",
       "    }\n",
       "\n",
       "    .dataframe tbody tr th {\n",
       "        vertical-align: top;\n",
       "    }\n",
       "\n",
       "    .dataframe thead th {\n",
       "        text-align: right;\n",
       "    }\n",
       "</style>\n",
       "<table border=\"1\" class=\"dataframe\">\n",
       "  <thead>\n",
       "    <tr style=\"text-align: right;\">\n",
       "      <th></th>\n",
       "      <th>States</th>\n",
       "      <th>Years</th>\n",
       "      <th>Quarter</th>\n",
       "      <th>Transaction_type</th>\n",
       "      <th>Transaction_count</th>\n",
       "      <th>Transaction_amount</th>\n",
       "    </tr>\n",
       "  </thead>\n",
       "  <tbody>\n",
       "    <tr>\n",
       "      <th>0</th>\n",
       "      <td>Andaman &amp; Nicobar</td>\n",
       "      <td>2018</td>\n",
       "      <td>1</td>\n",
       "      <td>Recharge &amp; bill payments</td>\n",
       "      <td>4200</td>\n",
       "      <td>1845307</td>\n",
       "    </tr>\n",
       "    <tr>\n",
       "      <th>1</th>\n",
       "      <td>Andaman &amp; Nicobar</td>\n",
       "      <td>2018</td>\n",
       "      <td>1</td>\n",
       "      <td>Peer-to-peer payments</td>\n",
       "      <td>1871</td>\n",
       "      <td>12138655</td>\n",
       "    </tr>\n",
       "    <tr>\n",
       "      <th>2</th>\n",
       "      <td>Andaman &amp; Nicobar</td>\n",
       "      <td>2018</td>\n",
       "      <td>1</td>\n",
       "      <td>Merchant payments</td>\n",
       "      <td>298</td>\n",
       "      <td>452507</td>\n",
       "    </tr>\n",
       "    <tr>\n",
       "      <th>3</th>\n",
       "      <td>Andaman &amp; Nicobar</td>\n",
       "      <td>2018</td>\n",
       "      <td>1</td>\n",
       "      <td>Financial Services</td>\n",
       "      <td>33</td>\n",
       "      <td>10601</td>\n",
       "    </tr>\n",
       "    <tr>\n",
       "      <th>4</th>\n",
       "      <td>Andaman &amp; Nicobar</td>\n",
       "      <td>2018</td>\n",
       "      <td>1</td>\n",
       "      <td>Others</td>\n",
       "      <td>256</td>\n",
       "      <td>184690</td>\n",
       "    </tr>\n",
       "    <tr>\n",
       "      <th>...</th>\n",
       "      <td>...</td>\n",
       "      <td>...</td>\n",
       "      <td>...</td>\n",
       "      <td>...</td>\n",
       "      <td>...</td>\n",
       "      <td>...</td>\n",
       "    </tr>\n",
       "    <tr>\n",
       "      <th>4669</th>\n",
       "      <td>West Bengal</td>\n",
       "      <td>2024</td>\n",
       "      <td>2</td>\n",
       "      <td>Merchant payments</td>\n",
       "      <td>505063040</td>\n",
       "      <td>312997770316</td>\n",
       "    </tr>\n",
       "    <tr>\n",
       "      <th>4670</th>\n",
       "      <td>West Bengal</td>\n",
       "      <td>2024</td>\n",
       "      <td>2</td>\n",
       "      <td>Peer-to-peer payments</td>\n",
       "      <td>393935166</td>\n",
       "      <td>1182044126793</td>\n",
       "    </tr>\n",
       "    <tr>\n",
       "      <th>4671</th>\n",
       "      <td>West Bengal</td>\n",
       "      <td>2024</td>\n",
       "      <td>2</td>\n",
       "      <td>Recharge &amp; bill payments</td>\n",
       "      <td>80431842</td>\n",
       "      <td>51186387144</td>\n",
       "    </tr>\n",
       "    <tr>\n",
       "      <th>4672</th>\n",
       "      <td>West Bengal</td>\n",
       "      <td>2024</td>\n",
       "      <td>2</td>\n",
       "      <td>Financial Services</td>\n",
       "      <td>545945</td>\n",
       "      <td>683056741</td>\n",
       "    </tr>\n",
       "    <tr>\n",
       "      <th>4673</th>\n",
       "      <td>West Bengal</td>\n",
       "      <td>2024</td>\n",
       "      <td>2</td>\n",
       "      <td>Others</td>\n",
       "      <td>504714</td>\n",
       "      <td>432474570</td>\n",
       "    </tr>\n",
       "  </tbody>\n",
       "</table>\n",
       "<p>4674 rows × 6 columns</p>\n",
       "</div>"
      ],
      "text/plain": [
       "                 States  Years  Quarter          Transaction_type  \\\n",
       "0     Andaman & Nicobar   2018        1  Recharge & bill payments   \n",
       "1     Andaman & Nicobar   2018        1     Peer-to-peer payments   \n",
       "2     Andaman & Nicobar   2018        1         Merchant payments   \n",
       "3     Andaman & Nicobar   2018        1        Financial Services   \n",
       "4     Andaman & Nicobar   2018        1                    Others   \n",
       "...                 ...    ...      ...                       ...   \n",
       "4669        West Bengal   2024        2         Merchant payments   \n",
       "4670        West Bengal   2024        2     Peer-to-peer payments   \n",
       "4671        West Bengal   2024        2  Recharge & bill payments   \n",
       "4672        West Bengal   2024        2        Financial Services   \n",
       "4673        West Bengal   2024        2                    Others   \n",
       "\n",
       "      Transaction_count  Transaction_amount  \n",
       "0                  4200             1845307  \n",
       "1                  1871            12138655  \n",
       "2                   298              452507  \n",
       "3                    33               10601  \n",
       "4                   256              184690  \n",
       "...                 ...                 ...  \n",
       "4669          505063040        312997770316  \n",
       "4670          393935166       1182044126793  \n",
       "4671           80431842         51186387144  \n",
       "4672             545945           683056741  \n",
       "4673             504714           432474570  \n",
       "\n",
       "[4674 rows x 6 columns]"
      ]
     },
     "execution_count": 4,
     "metadata": {},
     "output_type": "execute_result"
    }
   ],
   "source": [
    "# aggre_transaction_df\n",
    "\n",
    "cursor.execute(\"SELECT * FROM aggregated_transaction\")\n",
    "\n",
    "mydb.commit()\n",
    "\n",
    "table2 = cursor.fetchall()\n",
    "\n",
    "Aggre_transaction = pd.DataFrame(table2, columns = ['States', 'Years', 'Quarter', 'Transaction_type', 'Transaction_count', 'Transaction_amount'])\n",
    "\n",
    "Aggre_transaction"
   ]
  },
  {
   "cell_type": "code",
   "execution_count": 5,
   "metadata": {},
   "outputs": [
    {
     "data": {
      "text/html": [
       "<div>\n",
       "<style scoped>\n",
       "    .dataframe tbody tr th:only-of-type {\n",
       "        vertical-align: middle;\n",
       "    }\n",
       "\n",
       "    .dataframe tbody tr th {\n",
       "        vertical-align: top;\n",
       "    }\n",
       "\n",
       "    .dataframe thead th {\n",
       "        text-align: right;\n",
       "    }\n",
       "</style>\n",
       "<table border=\"1\" class=\"dataframe\">\n",
       "  <thead>\n",
       "    <tr style=\"text-align: right;\">\n",
       "      <th></th>\n",
       "      <th>States</th>\n",
       "      <th>Years</th>\n",
       "      <th>Quarter</th>\n",
       "      <th>Brands</th>\n",
       "      <th>Transaction_count</th>\n",
       "      <th>Percentage</th>\n",
       "    </tr>\n",
       "  </thead>\n",
       "  <tbody>\n",
       "    <tr>\n",
       "      <th>0</th>\n",
       "      <td>Andaman &amp; Nicobar</td>\n",
       "      <td>2018</td>\n",
       "      <td>1</td>\n",
       "      <td>Xiaomi</td>\n",
       "      <td>1665</td>\n",
       "      <td>0.247033</td>\n",
       "    </tr>\n",
       "    <tr>\n",
       "      <th>1</th>\n",
       "      <td>Andaman &amp; Nicobar</td>\n",
       "      <td>2018</td>\n",
       "      <td>1</td>\n",
       "      <td>Samsung</td>\n",
       "      <td>1445</td>\n",
       "      <td>0.214392</td>\n",
       "    </tr>\n",
       "    <tr>\n",
       "      <th>2</th>\n",
       "      <td>Andaman &amp; Nicobar</td>\n",
       "      <td>2018</td>\n",
       "      <td>1</td>\n",
       "      <td>Vivo</td>\n",
       "      <td>982</td>\n",
       "      <td>0.145697</td>\n",
       "    </tr>\n",
       "    <tr>\n",
       "      <th>3</th>\n",
       "      <td>Andaman &amp; Nicobar</td>\n",
       "      <td>2018</td>\n",
       "      <td>1</td>\n",
       "      <td>Oppo</td>\n",
       "      <td>501</td>\n",
       "      <td>0.074332</td>\n",
       "    </tr>\n",
       "    <tr>\n",
       "      <th>4</th>\n",
       "      <td>Andaman &amp; Nicobar</td>\n",
       "      <td>2018</td>\n",
       "      <td>1</td>\n",
       "      <td>OnePlus</td>\n",
       "      <td>332</td>\n",
       "      <td>0.049258</td>\n",
       "    </tr>\n",
       "    <tr>\n",
       "      <th>...</th>\n",
       "      <td>...</td>\n",
       "      <td>...</td>\n",
       "      <td>...</td>\n",
       "      <td>...</td>\n",
       "      <td>...</td>\n",
       "      <td>...</td>\n",
       "    </tr>\n",
       "    <tr>\n",
       "      <th>6727</th>\n",
       "      <td>West Bengal</td>\n",
       "      <td>2022</td>\n",
       "      <td>1</td>\n",
       "      <td>Lenovo</td>\n",
       "      <td>330017</td>\n",
       "      <td>0.015056</td>\n",
       "    </tr>\n",
       "    <tr>\n",
       "      <th>6728</th>\n",
       "      <td>West Bengal</td>\n",
       "      <td>2022</td>\n",
       "      <td>1</td>\n",
       "      <td>Infinix</td>\n",
       "      <td>284678</td>\n",
       "      <td>0.012987</td>\n",
       "    </tr>\n",
       "    <tr>\n",
       "      <th>6729</th>\n",
       "      <td>West Bengal</td>\n",
       "      <td>2022</td>\n",
       "      <td>1</td>\n",
       "      <td>Asus</td>\n",
       "      <td>280347</td>\n",
       "      <td>0.012790</td>\n",
       "    </tr>\n",
       "    <tr>\n",
       "      <th>6730</th>\n",
       "      <td>West Bengal</td>\n",
       "      <td>2022</td>\n",
       "      <td>1</td>\n",
       "      <td>Apple</td>\n",
       "      <td>277752</td>\n",
       "      <td>0.012671</td>\n",
       "    </tr>\n",
       "    <tr>\n",
       "      <th>6731</th>\n",
       "      <td>West Bengal</td>\n",
       "      <td>2022</td>\n",
       "      <td>1</td>\n",
       "      <td>Others</td>\n",
       "      <td>2196334</td>\n",
       "      <td>0.100199</td>\n",
       "    </tr>\n",
       "  </tbody>\n",
       "</table>\n",
       "<p>6732 rows × 6 columns</p>\n",
       "</div>"
      ],
      "text/plain": [
       "                 States  Years  Quarter   Brands  Transaction_count  \\\n",
       "0     Andaman & Nicobar   2018        1   Xiaomi               1665   \n",
       "1     Andaman & Nicobar   2018        1  Samsung               1445   \n",
       "2     Andaman & Nicobar   2018        1     Vivo                982   \n",
       "3     Andaman & Nicobar   2018        1     Oppo                501   \n",
       "4     Andaman & Nicobar   2018        1  OnePlus                332   \n",
       "...                 ...    ...      ...      ...                ...   \n",
       "6727        West Bengal   2022        1   Lenovo             330017   \n",
       "6728        West Bengal   2022        1  Infinix             284678   \n",
       "6729        West Bengal   2022        1     Asus             280347   \n",
       "6730        West Bengal   2022        1    Apple             277752   \n",
       "6731        West Bengal   2022        1   Others            2196334   \n",
       "\n",
       "      Percentage  \n",
       "0       0.247033  \n",
       "1       0.214392  \n",
       "2       0.145697  \n",
       "3       0.074332  \n",
       "4       0.049258  \n",
       "...          ...  \n",
       "6727    0.015056  \n",
       "6728    0.012987  \n",
       "6729    0.012790  \n",
       "6730    0.012671  \n",
       "6731    0.100199  \n",
       "\n",
       "[6732 rows x 6 columns]"
      ]
     },
     "execution_count": 5,
     "metadata": {},
     "output_type": "execute_result"
    }
   ],
   "source": [
    "# aggre_user_df\n",
    "\n",
    "cursor.execute(\"SELECT * FROM aggregated_user\")\n",
    "\n",
    "mydb.commit()\n",
    "\n",
    "table3 = cursor.fetchall()\n",
    "\n",
    "Aggre_user = pd.DataFrame(table3, columns = ['States', 'Years', 'Quarter', 'Brands', 'Transaction_count', 'Percentage'])\n",
    "\n",
    "Aggre_user"
   ]
  },
  {
   "cell_type": "markdown",
   "metadata": {},
   "source": [
    "## map"
   ]
  },
  {
   "cell_type": "code",
   "execution_count": 6,
   "metadata": {},
   "outputs": [
    {
     "data": {
      "text/html": [
       "<div>\n",
       "<style scoped>\n",
       "    .dataframe tbody tr th:only-of-type {\n",
       "        vertical-align: middle;\n",
       "    }\n",
       "\n",
       "    .dataframe tbody tr th {\n",
       "        vertical-align: top;\n",
       "    }\n",
       "\n",
       "    .dataframe thead th {\n",
       "        text-align: right;\n",
       "    }\n",
       "</style>\n",
       "<table border=\"1\" class=\"dataframe\">\n",
       "  <thead>\n",
       "    <tr style=\"text-align: right;\">\n",
       "      <th></th>\n",
       "      <th>States</th>\n",
       "      <th>Years</th>\n",
       "      <th>Quarter</th>\n",
       "      <th>District</th>\n",
       "      <th>Transaction_count</th>\n",
       "      <th>Transaction_amount</th>\n",
       "    </tr>\n",
       "  </thead>\n",
       "  <tbody>\n",
       "    <tr>\n",
       "      <th>0</th>\n",
       "      <td>Andaman &amp; Nicobar</td>\n",
       "      <td>2020</td>\n",
       "      <td>2</td>\n",
       "      <td>south andaman district</td>\n",
       "      <td>3</td>\n",
       "      <td>795</td>\n",
       "    </tr>\n",
       "    <tr>\n",
       "      <th>1</th>\n",
       "      <td>Andaman &amp; Nicobar</td>\n",
       "      <td>2020</td>\n",
       "      <td>2</td>\n",
       "      <td>nicobars district</td>\n",
       "      <td>3</td>\n",
       "      <td>565</td>\n",
       "    </tr>\n",
       "    <tr>\n",
       "      <th>2</th>\n",
       "      <td>Andaman &amp; Nicobar</td>\n",
       "      <td>2020</td>\n",
       "      <td>3</td>\n",
       "      <td>north and middle andaman district</td>\n",
       "      <td>1</td>\n",
       "      <td>281</td>\n",
       "    </tr>\n",
       "    <tr>\n",
       "      <th>3</th>\n",
       "      <td>Andaman &amp; Nicobar</td>\n",
       "      <td>2020</td>\n",
       "      <td>3</td>\n",
       "      <td>south andaman district</td>\n",
       "      <td>35</td>\n",
       "      <td>13651</td>\n",
       "    </tr>\n",
       "    <tr>\n",
       "      <th>4</th>\n",
       "      <td>Andaman &amp; Nicobar</td>\n",
       "      <td>2020</td>\n",
       "      <td>3</td>\n",
       "      <td>nicobars district</td>\n",
       "      <td>5</td>\n",
       "      <td>1448</td>\n",
       "    </tr>\n",
       "    <tr>\n",
       "      <th>...</th>\n",
       "      <td>...</td>\n",
       "      <td>...</td>\n",
       "      <td>...</td>\n",
       "      <td>...</td>\n",
       "      <td>...</td>\n",
       "      <td>...</td>\n",
       "    </tr>\n",
       "    <tr>\n",
       "      <th>12286</th>\n",
       "      <td>West Bengal</td>\n",
       "      <td>2024</td>\n",
       "      <td>2</td>\n",
       "      <td>nadia district</td>\n",
       "      <td>2758</td>\n",
       "      <td>3589423</td>\n",
       "    </tr>\n",
       "    <tr>\n",
       "      <th>12287</th>\n",
       "      <td>West Bengal</td>\n",
       "      <td>2024</td>\n",
       "      <td>2</td>\n",
       "      <td>birbhum district</td>\n",
       "      <td>1142</td>\n",
       "      <td>1515427</td>\n",
       "    </tr>\n",
       "    <tr>\n",
       "      <th>12288</th>\n",
       "      <td>West Bengal</td>\n",
       "      <td>2024</td>\n",
       "      <td>2</td>\n",
       "      <td>purba medinipur district</td>\n",
       "      <td>2463</td>\n",
       "      <td>2987090</td>\n",
       "    </tr>\n",
       "    <tr>\n",
       "      <th>12289</th>\n",
       "      <td>West Bengal</td>\n",
       "      <td>2024</td>\n",
       "      <td>2</td>\n",
       "      <td>maldah district</td>\n",
       "      <td>2731</td>\n",
       "      <td>3446842</td>\n",
       "    </tr>\n",
       "    <tr>\n",
       "      <th>12290</th>\n",
       "      <td>West Bengal</td>\n",
       "      <td>2024</td>\n",
       "      <td>2</td>\n",
       "      <td>darjiling district</td>\n",
       "      <td>2758</td>\n",
       "      <td>4207151</td>\n",
       "    </tr>\n",
       "  </tbody>\n",
       "</table>\n",
       "<p>12291 rows × 6 columns</p>\n",
       "</div>"
      ],
      "text/plain": [
       "                  States  Years  Quarter                           District  \\\n",
       "0      Andaman & Nicobar   2020        2             south andaman district   \n",
       "1      Andaman & Nicobar   2020        2                  nicobars district   \n",
       "2      Andaman & Nicobar   2020        3  north and middle andaman district   \n",
       "3      Andaman & Nicobar   2020        3             south andaman district   \n",
       "4      Andaman & Nicobar   2020        3                  nicobars district   \n",
       "...                  ...    ...      ...                                ...   \n",
       "12286        West Bengal   2024        2                     nadia district   \n",
       "12287        West Bengal   2024        2                   birbhum district   \n",
       "12288        West Bengal   2024        2           purba medinipur district   \n",
       "12289        West Bengal   2024        2                    maldah district   \n",
       "12290        West Bengal   2024        2                 darjiling district   \n",
       "\n",
       "       Transaction_count  Transaction_amount  \n",
       "0                      3                 795  \n",
       "1                      3                 565  \n",
       "2                      1                 281  \n",
       "3                     35               13651  \n",
       "4                      5                1448  \n",
       "...                  ...                 ...  \n",
       "12286               2758             3589423  \n",
       "12287               1142             1515427  \n",
       "12288               2463             2987090  \n",
       "12289               2731             3446842  \n",
       "12290               2758             4207151  \n",
       "\n",
       "[12291 rows x 6 columns]"
      ]
     },
     "execution_count": 6,
     "metadata": {},
     "output_type": "execute_result"
    }
   ],
   "source": [
    "# map_insurance_df\n",
    "\n",
    "cursor.execute(\"SELECT * FROM map_insurance\")\n",
    "\n",
    "mydb.commit()\n",
    "\n",
    "table4 = cursor.fetchall()\n",
    "\n",
    "map_insurance = pd.DataFrame(table4, columns = ['States', 'Years', 'Quarter', 'District', 'Transaction_count', 'Transaction_amount'])\n",
    "\n",
    "map_insurance"
   ]
  },
  {
   "cell_type": "code",
   "execution_count": 7,
   "metadata": {},
   "outputs": [
    {
     "data": {
      "text/html": [
       "<div>\n",
       "<style scoped>\n",
       "    .dataframe tbody tr th:only-of-type {\n",
       "        vertical-align: middle;\n",
       "    }\n",
       "\n",
       "    .dataframe tbody tr th {\n",
       "        vertical-align: top;\n",
       "    }\n",
       "\n",
       "    .dataframe thead th {\n",
       "        text-align: right;\n",
       "    }\n",
       "</style>\n",
       "<table border=\"1\" class=\"dataframe\">\n",
       "  <thead>\n",
       "    <tr style=\"text-align: right;\">\n",
       "      <th></th>\n",
       "      <th>States</th>\n",
       "      <th>Years</th>\n",
       "      <th>Quarter</th>\n",
       "      <th>District</th>\n",
       "      <th>Transaction_count</th>\n",
       "      <th>Transaction_amount</th>\n",
       "    </tr>\n",
       "  </thead>\n",
       "  <tbody>\n",
       "    <tr>\n",
       "      <th>0</th>\n",
       "      <td>Andaman &amp; Nicobar</td>\n",
       "      <td>2018</td>\n",
       "      <td>1</td>\n",
       "      <td>north and middle andaman district</td>\n",
       "      <td>442</td>\n",
       "      <td>931663</td>\n",
       "    </tr>\n",
       "    <tr>\n",
       "      <th>1</th>\n",
       "      <td>Andaman &amp; Nicobar</td>\n",
       "      <td>2018</td>\n",
       "      <td>1</td>\n",
       "      <td>south andaman district</td>\n",
       "      <td>5688</td>\n",
       "      <td>12560249</td>\n",
       "    </tr>\n",
       "    <tr>\n",
       "      <th>2</th>\n",
       "      <td>Andaman &amp; Nicobar</td>\n",
       "      <td>2018</td>\n",
       "      <td>1</td>\n",
       "      <td>nicobars district</td>\n",
       "      <td>528</td>\n",
       "      <td>1139849</td>\n",
       "    </tr>\n",
       "    <tr>\n",
       "      <th>3</th>\n",
       "      <td>Andaman &amp; Nicobar</td>\n",
       "      <td>2018</td>\n",
       "      <td>2</td>\n",
       "      <td>north and middle andaman district</td>\n",
       "      <td>825</td>\n",
       "      <td>1317863</td>\n",
       "    </tr>\n",
       "    <tr>\n",
       "      <th>4</th>\n",
       "      <td>Andaman &amp; Nicobar</td>\n",
       "      <td>2018</td>\n",
       "      <td>2</td>\n",
       "      <td>south andaman district</td>\n",
       "      <td>9395</td>\n",
       "      <td>23948236</td>\n",
       "    </tr>\n",
       "    <tr>\n",
       "      <th>...</th>\n",
       "      <td>...</td>\n",
       "      <td>...</td>\n",
       "      <td>...</td>\n",
       "      <td>...</td>\n",
       "      <td>...</td>\n",
       "      <td>...</td>\n",
       "    </tr>\n",
       "    <tr>\n",
       "      <th>19023</th>\n",
       "      <td>West Bengal</td>\n",
       "      <td>2024</td>\n",
       "      <td>2</td>\n",
       "      <td>nadia district</td>\n",
       "      <td>49543213</td>\n",
       "      <td>85889425747</td>\n",
       "    </tr>\n",
       "    <tr>\n",
       "      <th>19024</th>\n",
       "      <td>West Bengal</td>\n",
       "      <td>2024</td>\n",
       "      <td>2</td>\n",
       "      <td>birbhum district</td>\n",
       "      <td>29485233</td>\n",
       "      <td>49694427747</td>\n",
       "    </tr>\n",
       "    <tr>\n",
       "      <th>19025</th>\n",
       "      <td>West Bengal</td>\n",
       "      <td>2024</td>\n",
       "      <td>2</td>\n",
       "      <td>purba medinipur district</td>\n",
       "      <td>55342585</td>\n",
       "      <td>98897892001</td>\n",
       "    </tr>\n",
       "    <tr>\n",
       "      <th>19026</th>\n",
       "      <td>West Bengal</td>\n",
       "      <td>2024</td>\n",
       "      <td>2</td>\n",
       "      <td>maldah district</td>\n",
       "      <td>52271735</td>\n",
       "      <td>90432057728</td>\n",
       "    </tr>\n",
       "    <tr>\n",
       "      <th>19027</th>\n",
       "      <td>West Bengal</td>\n",
       "      <td>2024</td>\n",
       "      <td>2</td>\n",
       "      <td>darjiling district</td>\n",
       "      <td>22244510</td>\n",
       "      <td>34045403846</td>\n",
       "    </tr>\n",
       "  </tbody>\n",
       "</table>\n",
       "<p>19028 rows × 6 columns</p>\n",
       "</div>"
      ],
      "text/plain": [
       "                  States  Years  Quarter                           District  \\\n",
       "0      Andaman & Nicobar   2018        1  north and middle andaman district   \n",
       "1      Andaman & Nicobar   2018        1             south andaman district   \n",
       "2      Andaman & Nicobar   2018        1                  nicobars district   \n",
       "3      Andaman & Nicobar   2018        2  north and middle andaman district   \n",
       "4      Andaman & Nicobar   2018        2             south andaman district   \n",
       "...                  ...    ...      ...                                ...   \n",
       "19023        West Bengal   2024        2                     nadia district   \n",
       "19024        West Bengal   2024        2                   birbhum district   \n",
       "19025        West Bengal   2024        2           purba medinipur district   \n",
       "19026        West Bengal   2024        2                    maldah district   \n",
       "19027        West Bengal   2024        2                 darjiling district   \n",
       "\n",
       "       Transaction_count  Transaction_amount  \n",
       "0                    442              931663  \n",
       "1                   5688            12560249  \n",
       "2                    528             1139849  \n",
       "3                    825             1317863  \n",
       "4                   9395            23948236  \n",
       "...                  ...                 ...  \n",
       "19023           49543213         85889425747  \n",
       "19024           29485233         49694427747  \n",
       "19025           55342585         98897892001  \n",
       "19026           52271735         90432057728  \n",
       "19027           22244510         34045403846  \n",
       "\n",
       "[19028 rows x 6 columns]"
      ]
     },
     "execution_count": 7,
     "metadata": {},
     "output_type": "execute_result"
    }
   ],
   "source": [
    "# map_transaction_df\n",
    "\n",
    "cursor.execute(\"SELECT * FROM map_transaction\")\n",
    "\n",
    "mydb.commit()\n",
    "\n",
    "table5 = cursor.fetchall()\n",
    "\n",
    "map_transaction = pd.DataFrame(table5, columns = ['States', 'Years', 'Quarter', 'District', 'Transaction_count', 'Transaction_amount'])\n",
    "\n",
    "map_transaction"
   ]
  },
  {
   "cell_type": "code",
   "execution_count": 8,
   "metadata": {},
   "outputs": [
    {
     "data": {
      "text/html": [
       "<div>\n",
       "<style scoped>\n",
       "    .dataframe tbody tr th:only-of-type {\n",
       "        vertical-align: middle;\n",
       "    }\n",
       "\n",
       "    .dataframe tbody tr th {\n",
       "        vertical-align: top;\n",
       "    }\n",
       "\n",
       "    .dataframe thead th {\n",
       "        text-align: right;\n",
       "    }\n",
       "</style>\n",
       "<table border=\"1\" class=\"dataframe\">\n",
       "  <thead>\n",
       "    <tr style=\"text-align: right;\">\n",
       "      <th></th>\n",
       "      <th>States</th>\n",
       "      <th>Years</th>\n",
       "      <th>Quarter</th>\n",
       "      <th>District</th>\n",
       "      <th>RegisteredUsers</th>\n",
       "      <th>AppOpens</th>\n",
       "    </tr>\n",
       "  </thead>\n",
       "  <tbody>\n",
       "    <tr>\n",
       "      <th>0</th>\n",
       "      <td>Andaman &amp; Nicobar</td>\n",
       "      <td>2018</td>\n",
       "      <td>1</td>\n",
       "      <td>north and middle andaman district</td>\n",
       "      <td>632</td>\n",
       "      <td>0</td>\n",
       "    </tr>\n",
       "    <tr>\n",
       "      <th>1</th>\n",
       "      <td>Andaman &amp; Nicobar</td>\n",
       "      <td>2018</td>\n",
       "      <td>1</td>\n",
       "      <td>south andaman district</td>\n",
       "      <td>5846</td>\n",
       "      <td>0</td>\n",
       "    </tr>\n",
       "    <tr>\n",
       "      <th>2</th>\n",
       "      <td>Andaman &amp; Nicobar</td>\n",
       "      <td>2018</td>\n",
       "      <td>1</td>\n",
       "      <td>nicobars district</td>\n",
       "      <td>262</td>\n",
       "      <td>0</td>\n",
       "    </tr>\n",
       "    <tr>\n",
       "      <th>3</th>\n",
       "      <td>Andaman &amp; Nicobar</td>\n",
       "      <td>2018</td>\n",
       "      <td>2</td>\n",
       "      <td>north and middle andaman district</td>\n",
       "      <td>911</td>\n",
       "      <td>0</td>\n",
       "    </tr>\n",
       "    <tr>\n",
       "      <th>4</th>\n",
       "      <td>Andaman &amp; Nicobar</td>\n",
       "      <td>2018</td>\n",
       "      <td>2</td>\n",
       "      <td>south andaman district</td>\n",
       "      <td>8143</td>\n",
       "      <td>0</td>\n",
       "    </tr>\n",
       "    <tr>\n",
       "      <th>...</th>\n",
       "      <td>...</td>\n",
       "      <td>...</td>\n",
       "      <td>...</td>\n",
       "      <td>...</td>\n",
       "      <td>...</td>\n",
       "      <td>...</td>\n",
       "    </tr>\n",
       "    <tr>\n",
       "      <th>19027</th>\n",
       "      <td>West Bengal</td>\n",
       "      <td>2024</td>\n",
       "      <td>2</td>\n",
       "      <td>nadia district</td>\n",
       "      <td>1737326</td>\n",
       "      <td>14549939</td>\n",
       "    </tr>\n",
       "    <tr>\n",
       "      <th>19028</th>\n",
       "      <td>West Bengal</td>\n",
       "      <td>2024</td>\n",
       "      <td>2</td>\n",
       "      <td>birbhum district</td>\n",
       "      <td>1099269</td>\n",
       "      <td>38692858</td>\n",
       "    </tr>\n",
       "    <tr>\n",
       "      <th>19029</th>\n",
       "      <td>West Bengal</td>\n",
       "      <td>2024</td>\n",
       "      <td>2</td>\n",
       "      <td>purba medinipur district</td>\n",
       "      <td>1721598</td>\n",
       "      <td>18370486</td>\n",
       "    </tr>\n",
       "    <tr>\n",
       "      <th>19030</th>\n",
       "      <td>West Bengal</td>\n",
       "      <td>2024</td>\n",
       "      <td>2</td>\n",
       "      <td>maldah district</td>\n",
       "      <td>1231444</td>\n",
       "      <td>42755282</td>\n",
       "    </tr>\n",
       "    <tr>\n",
       "      <th>19031</th>\n",
       "      <td>West Bengal</td>\n",
       "      <td>2024</td>\n",
       "      <td>2</td>\n",
       "      <td>darjiling district</td>\n",
       "      <td>711967</td>\n",
       "      <td>31397877</td>\n",
       "    </tr>\n",
       "  </tbody>\n",
       "</table>\n",
       "<p>19032 rows × 6 columns</p>\n",
       "</div>"
      ],
      "text/plain": [
       "                  States  Years  Quarter                           District  \\\n",
       "0      Andaman & Nicobar   2018        1  north and middle andaman district   \n",
       "1      Andaman & Nicobar   2018        1             south andaman district   \n",
       "2      Andaman & Nicobar   2018        1                  nicobars district   \n",
       "3      Andaman & Nicobar   2018        2  north and middle andaman district   \n",
       "4      Andaman & Nicobar   2018        2             south andaman district   \n",
       "...                  ...    ...      ...                                ...   \n",
       "19027        West Bengal   2024        2                     nadia district   \n",
       "19028        West Bengal   2024        2                   birbhum district   \n",
       "19029        West Bengal   2024        2           purba medinipur district   \n",
       "19030        West Bengal   2024        2                    maldah district   \n",
       "19031        West Bengal   2024        2                 darjiling district   \n",
       "\n",
       "       RegisteredUsers  AppOpens  \n",
       "0                  632         0  \n",
       "1                 5846         0  \n",
       "2                  262         0  \n",
       "3                  911         0  \n",
       "4                 8143         0  \n",
       "...                ...       ...  \n",
       "19027          1737326  14549939  \n",
       "19028          1099269  38692858  \n",
       "19029          1721598  18370486  \n",
       "19030          1231444  42755282  \n",
       "19031           711967  31397877  \n",
       "\n",
       "[19032 rows x 6 columns]"
      ]
     },
     "execution_count": 8,
     "metadata": {},
     "output_type": "execute_result"
    }
   ],
   "source": [
    "# map_user_df\n",
    "\n",
    "cursor.execute(\"SELECT * FROM map_user\")\n",
    "\n",
    "mydb.commit()\n",
    "\n",
    "table6 = cursor.fetchall()\n",
    "\n",
    "map_user = pd.DataFrame(table6, columns = ['States', 'Years', 'Quarter', 'District', 'RegisteredUsers', 'AppOpens'])\n",
    "\n",
    "map_user"
   ]
  },
  {
   "cell_type": "markdown",
   "metadata": {},
   "source": [
    "## top"
   ]
  },
  {
   "cell_type": "code",
   "execution_count": 9,
   "metadata": {},
   "outputs": [
    {
     "data": {
      "text/html": [
       "<div>\n",
       "<style scoped>\n",
       "    .dataframe tbody tr th:only-of-type {\n",
       "        vertical-align: middle;\n",
       "    }\n",
       "\n",
       "    .dataframe tbody tr th {\n",
       "        vertical-align: top;\n",
       "    }\n",
       "\n",
       "    .dataframe thead th {\n",
       "        text-align: right;\n",
       "    }\n",
       "</style>\n",
       "<table border=\"1\" class=\"dataframe\">\n",
       "  <thead>\n",
       "    <tr style=\"text-align: right;\">\n",
       "      <th></th>\n",
       "      <th>States</th>\n",
       "      <th>Years</th>\n",
       "      <th>Quarter</th>\n",
       "      <th>Pincodes</th>\n",
       "      <th>Transaction_count</th>\n",
       "      <th>Transaction_amount</th>\n",
       "    </tr>\n",
       "  </thead>\n",
       "  <tbody>\n",
       "    <tr>\n",
       "      <th>0</th>\n",
       "      <td>Andaman &amp; Nicobar</td>\n",
       "      <td>2020</td>\n",
       "      <td>2</td>\n",
       "      <td>744301.0</td>\n",
       "      <td>3</td>\n",
       "      <td>565</td>\n",
       "    </tr>\n",
       "    <tr>\n",
       "      <th>1</th>\n",
       "      <td>Andaman &amp; Nicobar</td>\n",
       "      <td>2020</td>\n",
       "      <td>2</td>\n",
       "      <td>744104.0</td>\n",
       "      <td>2</td>\n",
       "      <td>513</td>\n",
       "    </tr>\n",
       "    <tr>\n",
       "      <th>2</th>\n",
       "      <td>Andaman &amp; Nicobar</td>\n",
       "      <td>2020</td>\n",
       "      <td>2</td>\n",
       "      <td>744101.0</td>\n",
       "      <td>1</td>\n",
       "      <td>282</td>\n",
       "    </tr>\n",
       "    <tr>\n",
       "      <th>3</th>\n",
       "      <td>Andaman &amp; Nicobar</td>\n",
       "      <td>2020</td>\n",
       "      <td>3</td>\n",
       "      <td>744112.0</td>\n",
       "      <td>9</td>\n",
       "      <td>3432</td>\n",
       "    </tr>\n",
       "    <tr>\n",
       "      <th>4</th>\n",
       "      <td>Andaman &amp; Nicobar</td>\n",
       "      <td>2020</td>\n",
       "      <td>3</td>\n",
       "      <td>744105.0</td>\n",
       "      <td>7</td>\n",
       "      <td>3948</td>\n",
       "    </tr>\n",
       "    <tr>\n",
       "      <th>...</th>\n",
       "      <td>...</td>\n",
       "      <td>...</td>\n",
       "      <td>...</td>\n",
       "      <td>...</td>\n",
       "      <td>...</td>\n",
       "      <td>...</td>\n",
       "    </tr>\n",
       "    <tr>\n",
       "      <th>5950</th>\n",
       "      <td>West Bengal</td>\n",
       "      <td>2024</td>\n",
       "      <td>2</td>\n",
       "      <td>700091.0</td>\n",
       "      <td>486</td>\n",
       "      <td>769448</td>\n",
       "    </tr>\n",
       "    <tr>\n",
       "      <th>5951</th>\n",
       "      <td>West Bengal</td>\n",
       "      <td>2024</td>\n",
       "      <td>2</td>\n",
       "      <td>700015.0</td>\n",
       "      <td>463</td>\n",
       "      <td>553207</td>\n",
       "    </tr>\n",
       "    <tr>\n",
       "      <th>5952</th>\n",
       "      <td>West Bengal</td>\n",
       "      <td>2024</td>\n",
       "      <td>2</td>\n",
       "      <td>732101.0</td>\n",
       "      <td>435</td>\n",
       "      <td>540040</td>\n",
       "    </tr>\n",
       "    <tr>\n",
       "      <th>5953</th>\n",
       "      <td>West Bengal</td>\n",
       "      <td>2024</td>\n",
       "      <td>2</td>\n",
       "      <td>700006.0</td>\n",
       "      <td>423</td>\n",
       "      <td>593566</td>\n",
       "    </tr>\n",
       "    <tr>\n",
       "      <th>5954</th>\n",
       "      <td>West Bengal</td>\n",
       "      <td>2024</td>\n",
       "      <td>2</td>\n",
       "      <td>700150.0</td>\n",
       "      <td>408</td>\n",
       "      <td>510118</td>\n",
       "    </tr>\n",
       "  </tbody>\n",
       "</table>\n",
       "<p>5955 rows × 6 columns</p>\n",
       "</div>"
      ],
      "text/plain": [
       "                 States  Years  Quarter  Pincodes  Transaction_count  \\\n",
       "0     Andaman & Nicobar   2020        2  744301.0                  3   \n",
       "1     Andaman & Nicobar   2020        2  744104.0                  2   \n",
       "2     Andaman & Nicobar   2020        2  744101.0                  1   \n",
       "3     Andaman & Nicobar   2020        3  744112.0                  9   \n",
       "4     Andaman & Nicobar   2020        3  744105.0                  7   \n",
       "...                 ...    ...      ...       ...                ...   \n",
       "5950        West Bengal   2024        2  700091.0                486   \n",
       "5951        West Bengal   2024        2  700015.0                463   \n",
       "5952        West Bengal   2024        2  732101.0                435   \n",
       "5953        West Bengal   2024        2  700006.0                423   \n",
       "5954        West Bengal   2024        2  700150.0                408   \n",
       "\n",
       "      Transaction_amount  \n",
       "0                    565  \n",
       "1                    513  \n",
       "2                    282  \n",
       "3                   3432  \n",
       "4                   3948  \n",
       "...                  ...  \n",
       "5950              769448  \n",
       "5951              553207  \n",
       "5952              540040  \n",
       "5953              593566  \n",
       "5954              510118  \n",
       "\n",
       "[5955 rows x 6 columns]"
      ]
     },
     "execution_count": 9,
     "metadata": {},
     "output_type": "execute_result"
    }
   ],
   "source": [
    "# top_insurance_db\n",
    "\n",
    "cursor.execute(\"SELECT * FROM top_insurance\")\n",
    "\n",
    "mydb.commit()\n",
    "\n",
    "table7 = cursor.fetchall()\n",
    "\n",
    "top_insurance = pd.DataFrame(table7, columns = ['States', 'Years', 'Quarter', 'Pincodes', 'Transaction_count', 'Transaction_amount'])\n",
    "\n",
    "top_insurance"
   ]
  },
  {
   "cell_type": "code",
   "execution_count": 10,
   "metadata": {},
   "outputs": [
    {
     "data": {
      "text/html": [
       "<div>\n",
       "<style scoped>\n",
       "    .dataframe tbody tr th:only-of-type {\n",
       "        vertical-align: middle;\n",
       "    }\n",
       "\n",
       "    .dataframe tbody tr th {\n",
       "        vertical-align: top;\n",
       "    }\n",
       "\n",
       "    .dataframe thead th {\n",
       "        text-align: right;\n",
       "    }\n",
       "</style>\n",
       "<table border=\"1\" class=\"dataframe\">\n",
       "  <thead>\n",
       "    <tr style=\"text-align: right;\">\n",
       "      <th></th>\n",
       "      <th>States</th>\n",
       "      <th>Years</th>\n",
       "      <th>Quarter</th>\n",
       "      <th>Pincodes</th>\n",
       "      <th>Transaction_count</th>\n",
       "      <th>Transaction_amount</th>\n",
       "    </tr>\n",
       "  </thead>\n",
       "  <tbody>\n",
       "    <tr>\n",
       "      <th>0</th>\n",
       "      <td>Andaman &amp; Nicobar</td>\n",
       "      <td>2018</td>\n",
       "      <td>1</td>\n",
       "      <td>744101.0</td>\n",
       "      <td>1622</td>\n",
       "      <td>2769298</td>\n",
       "    </tr>\n",
       "    <tr>\n",
       "      <th>1</th>\n",
       "      <td>Andaman &amp; Nicobar</td>\n",
       "      <td>2018</td>\n",
       "      <td>1</td>\n",
       "      <td>744103.0</td>\n",
       "      <td>1223</td>\n",
       "      <td>2238042</td>\n",
       "    </tr>\n",
       "    <tr>\n",
       "      <th>2</th>\n",
       "      <td>Andaman &amp; Nicobar</td>\n",
       "      <td>2018</td>\n",
       "      <td>1</td>\n",
       "      <td>744102.0</td>\n",
       "      <td>969</td>\n",
       "      <td>3519060</td>\n",
       "    </tr>\n",
       "    <tr>\n",
       "      <th>3</th>\n",
       "      <td>Andaman &amp; Nicobar</td>\n",
       "      <td>2018</td>\n",
       "      <td>1</td>\n",
       "      <td>744105.0</td>\n",
       "      <td>685</td>\n",
       "      <td>1298561</td>\n",
       "    </tr>\n",
       "    <tr>\n",
       "      <th>4</th>\n",
       "      <td>Andaman &amp; Nicobar</td>\n",
       "      <td>2018</td>\n",
       "      <td>1</td>\n",
       "      <td>744104.0</td>\n",
       "      <td>340</td>\n",
       "      <td>1039715</td>\n",
       "    </tr>\n",
       "    <tr>\n",
       "      <th>...</th>\n",
       "      <td>...</td>\n",
       "      <td>...</td>\n",
       "      <td>...</td>\n",
       "      <td>...</td>\n",
       "      <td>...</td>\n",
       "      <td>...</td>\n",
       "    </tr>\n",
       "    <tr>\n",
       "      <th>9276</th>\n",
       "      <td>West Bengal</td>\n",
       "      <td>2024</td>\n",
       "      <td>2</td>\n",
       "      <td>721301.0</td>\n",
       "      <td>5404541</td>\n",
       "      <td>6950099700</td>\n",
       "    </tr>\n",
       "    <tr>\n",
       "      <th>9277</th>\n",
       "      <td>West Bengal</td>\n",
       "      <td>2024</td>\n",
       "      <td>2</td>\n",
       "      <td>732201.0</td>\n",
       "      <td>5321216</td>\n",
       "      <td>11948807515</td>\n",
       "    </tr>\n",
       "    <tr>\n",
       "      <th>9278</th>\n",
       "      <td>West Bengal</td>\n",
       "      <td>2024</td>\n",
       "      <td>2</td>\n",
       "      <td>700006.0</td>\n",
       "      <td>4851340</td>\n",
       "      <td>8331812219</td>\n",
       "    </tr>\n",
       "    <tr>\n",
       "      <th>9279</th>\n",
       "      <td>West Bengal</td>\n",
       "      <td>2024</td>\n",
       "      <td>2</td>\n",
       "      <td>742202.0</td>\n",
       "      <td>4779726</td>\n",
       "      <td>9404879274</td>\n",
       "    </tr>\n",
       "    <tr>\n",
       "      <th>9280</th>\n",
       "      <td>West Bengal</td>\n",
       "      <td>2024</td>\n",
       "      <td>2</td>\n",
       "      <td>700001.0</td>\n",
       "      <td>4678132</td>\n",
       "      <td>8179605953</td>\n",
       "    </tr>\n",
       "  </tbody>\n",
       "</table>\n",
       "<p>9281 rows × 6 columns</p>\n",
       "</div>"
      ],
      "text/plain": [
       "                 States  Years  Quarter  Pincodes  Transaction_count  \\\n",
       "0     Andaman & Nicobar   2018        1  744101.0               1622   \n",
       "1     Andaman & Nicobar   2018        1  744103.0               1223   \n",
       "2     Andaman & Nicobar   2018        1  744102.0                969   \n",
       "3     Andaman & Nicobar   2018        1  744105.0                685   \n",
       "4     Andaman & Nicobar   2018        1  744104.0                340   \n",
       "...                 ...    ...      ...       ...                ...   \n",
       "9276        West Bengal   2024        2  721301.0            5404541   \n",
       "9277        West Bengal   2024        2  732201.0            5321216   \n",
       "9278        West Bengal   2024        2  700006.0            4851340   \n",
       "9279        West Bengal   2024        2  742202.0            4779726   \n",
       "9280        West Bengal   2024        2  700001.0            4678132   \n",
       "\n",
       "      Transaction_amount  \n",
       "0                2769298  \n",
       "1                2238042  \n",
       "2                3519060  \n",
       "3                1298561  \n",
       "4                1039715  \n",
       "...                  ...  \n",
       "9276          6950099700  \n",
       "9277         11948807515  \n",
       "9278          8331812219  \n",
       "9279          9404879274  \n",
       "9280          8179605953  \n",
       "\n",
       "[9281 rows x 6 columns]"
      ]
     },
     "execution_count": 10,
     "metadata": {},
     "output_type": "execute_result"
    }
   ],
   "source": [
    "# top_transaction\n",
    "\n",
    "cursor.execute(\"SELECT * FROM top_transaction\")\n",
    "\n",
    "mydb.commit()\n",
    "\n",
    "table8 = cursor.fetchall()\n",
    "\n",
    "top_transaction = pd.DataFrame(table8, columns = ['States', 'Years', 'Quarter', 'Pincodes', 'Transaction_count', 'Transaction_amount'])\n",
    "\n",
    "top_transaction"
   ]
  },
  {
   "cell_type": "code",
   "execution_count": 11,
   "metadata": {},
   "outputs": [
    {
     "data": {
      "text/html": [
       "<div>\n",
       "<style scoped>\n",
       "    .dataframe tbody tr th:only-of-type {\n",
       "        vertical-align: middle;\n",
       "    }\n",
       "\n",
       "    .dataframe tbody tr th {\n",
       "        vertical-align: top;\n",
       "    }\n",
       "\n",
       "    .dataframe thead th {\n",
       "        text-align: right;\n",
       "    }\n",
       "</style>\n",
       "<table border=\"1\" class=\"dataframe\">\n",
       "  <thead>\n",
       "    <tr style=\"text-align: right;\">\n",
       "      <th></th>\n",
       "      <th>States</th>\n",
       "      <th>Years</th>\n",
       "      <th>Quarter</th>\n",
       "      <th>Pincodes</th>\n",
       "      <th>RegisteredUsers</th>\n",
       "    </tr>\n",
       "  </thead>\n",
       "  <tbody>\n",
       "    <tr>\n",
       "      <th>0</th>\n",
       "      <td>Andaman &amp; Nicobar</td>\n",
       "      <td>2018</td>\n",
       "      <td>1</td>\n",
       "      <td>744103</td>\n",
       "      <td>1608</td>\n",
       "    </tr>\n",
       "    <tr>\n",
       "      <th>1</th>\n",
       "      <td>Andaman &amp; Nicobar</td>\n",
       "      <td>2018</td>\n",
       "      <td>1</td>\n",
       "      <td>744101</td>\n",
       "      <td>1108</td>\n",
       "    </tr>\n",
       "    <tr>\n",
       "      <th>2</th>\n",
       "      <td>Andaman &amp; Nicobar</td>\n",
       "      <td>2018</td>\n",
       "      <td>1</td>\n",
       "      <td>744105</td>\n",
       "      <td>1075</td>\n",
       "    </tr>\n",
       "    <tr>\n",
       "      <th>3</th>\n",
       "      <td>Andaman &amp; Nicobar</td>\n",
       "      <td>2018</td>\n",
       "      <td>1</td>\n",
       "      <td>744102</td>\n",
       "      <td>1006</td>\n",
       "    </tr>\n",
       "    <tr>\n",
       "      <th>4</th>\n",
       "      <td>Andaman &amp; Nicobar</td>\n",
       "      <td>2018</td>\n",
       "      <td>1</td>\n",
       "      <td>744104</td>\n",
       "      <td>272</td>\n",
       "    </tr>\n",
       "    <tr>\n",
       "      <th>...</th>\n",
       "      <td>...</td>\n",
       "      <td>...</td>\n",
       "      <td>...</td>\n",
       "      <td>...</td>\n",
       "      <td>...</td>\n",
       "    </tr>\n",
       "    <tr>\n",
       "      <th>9277</th>\n",
       "      <td>West Bengal</td>\n",
       "      <td>2024</td>\n",
       "      <td>2</td>\n",
       "      <td>700015</td>\n",
       "      <td>136835</td>\n",
       "    </tr>\n",
       "    <tr>\n",
       "      <th>9278</th>\n",
       "      <td>West Bengal</td>\n",
       "      <td>2024</td>\n",
       "      <td>2</td>\n",
       "      <td>721101</td>\n",
       "      <td>132872</td>\n",
       "    </tr>\n",
       "    <tr>\n",
       "      <th>9279</th>\n",
       "      <td>West Bengal</td>\n",
       "      <td>2024</td>\n",
       "      <td>2</td>\n",
       "      <td>742304</td>\n",
       "      <td>131799</td>\n",
       "    </tr>\n",
       "    <tr>\n",
       "      <th>9280</th>\n",
       "      <td>West Bengal</td>\n",
       "      <td>2024</td>\n",
       "      <td>2</td>\n",
       "      <td>700150</td>\n",
       "      <td>128721</td>\n",
       "    </tr>\n",
       "    <tr>\n",
       "      <th>9281</th>\n",
       "      <td>West Bengal</td>\n",
       "      <td>2024</td>\n",
       "      <td>2</td>\n",
       "      <td>700091</td>\n",
       "      <td>127531</td>\n",
       "    </tr>\n",
       "  </tbody>\n",
       "</table>\n",
       "<p>9282 rows × 5 columns</p>\n",
       "</div>"
      ],
      "text/plain": [
       "                 States  Years  Quarter  Pincodes  RegisteredUsers\n",
       "0     Andaman & Nicobar   2018        1    744103             1608\n",
       "1     Andaman & Nicobar   2018        1    744101             1108\n",
       "2     Andaman & Nicobar   2018        1    744105             1075\n",
       "3     Andaman & Nicobar   2018        1    744102             1006\n",
       "4     Andaman & Nicobar   2018        1    744104              272\n",
       "...                 ...    ...      ...       ...              ...\n",
       "9277        West Bengal   2024        2    700015           136835\n",
       "9278        West Bengal   2024        2    721101           132872\n",
       "9279        West Bengal   2024        2    742304           131799\n",
       "9280        West Bengal   2024        2    700150           128721\n",
       "9281        West Bengal   2024        2    700091           127531\n",
       "\n",
       "[9282 rows x 5 columns]"
      ]
     },
     "execution_count": 11,
     "metadata": {},
     "output_type": "execute_result"
    }
   ],
   "source": [
    "# top_user_db\n",
    "\n",
    "cursor.execute(\"SELECT * FROM top_user\")\n",
    "\n",
    "mydb.commit()\n",
    "\n",
    "table9 = cursor.fetchall()\n",
    "\n",
    "top_user = pd.DataFrame(table9, columns = ['States', 'Years', 'Quarter', 'Pincodes', 'RegisteredUsers'])\n",
    "\n",
    "top_user"
   ]
  },
  {
   "cell_type": "markdown",
   "metadata": {},
   "source": [
    "# EDA"
   ]
  },
  {
   "cell_type": "code",
   "execution_count": 12,
   "metadata": {},
   "outputs": [],
   "source": [
    "import plotly.express as px"
   ]
  },
  {
   "cell_type": "code",
   "execution_count": 13,
   "metadata": {},
   "outputs": [],
   "source": [
    "# Transaction_Year_Based\n",
    "def Transaction_amount_count_Y(df, year):\n",
    "\n",
    "    tacy = df[df['Years'] == year]\n",
    "\n",
    "    tacy.reset_index(drop = True, inplace= True)\n",
    "\n",
    "    tacyg = tacy.groupby(\"States\")[['Transaction_count', 'Transaction_amount']].sum()\n",
    "\n",
    "    tacyg.reset_index(inplace = True)\n",
    "\n",
    "    fig_amount = px.bar(tacyg, x = 'States', y = 'Transaction_amount', title= f'{year} TRANSACTION AMOUNT', color_discrete_sequence = px.colors.sequential.Aggrnyl, height= 650, width= 600)\n",
    "\n",
    "    fig_amount.show()\n",
    "\n",
    "    fig_count = px.bar(tacyg, x = 'States', y = 'Transaction_count', title= f'{year} TRANSACTION COUNT', color_discrete_sequence = px.colors.sequential.Bluered_r, height= 650, width= 600)\n",
    "\n",
    "    fig_count.show()\n",
    "    \n",
    "    \n",
    "    # Geo Visvalisation Map\n",
    "\n",
    "    import requests\n",
    "    import json\n",
    "\n",
    "    url = \"https://gist.githubusercontent.com/jbrobst/56c13bbbf9d97d187fea01ca62ea5112/raw/e388c4cae20aa53cb5090210a42ebb9b765c0a36/india_states.geojson\"        #India_Map_Link\n",
    "\n",
    "    response = requests.get(url)\n",
    "\n",
    "    data1 = json.loads(response.content)\n",
    "\n",
    "    states_name = []\n",
    "\n",
    "    for feature in data1['features']:\n",
    "        states_name.append(feature['properties']['ST_NM'])\n",
    "        \n",
    "    states_name.sort()\n",
    "\n",
    "    fig_india_1 = px.choropleth(tacyg, geojson= data1, locations= \"States\", featureidkey= \"properties.ST_NM\", color= \"Transaction_amount\", color_continuous_scale= \"ylgn\", range_color= (tacyg[\"Transaction_amount\"].min(), tacyg[\"Transaction_amount\"].max()), hover_name= \"States\", title = f\"{year} TRANSACTION AMOUNT\", fitbounds= \"locations\", height= 600, width= 600 )\n",
    "    \n",
    "    fig_india_1.update_geos(visible = False)\n",
    "    \n",
    "    fig_india_1.show()\n",
    "    \n",
    "    \n",
    "    fig_india_2 = px.choropleth(tacyg, geojson= data1, locations= \"States\", featureidkey= \"properties.ST_NM\", color= \"Transaction_count\", color_continuous_scale= \"ylgn\", range_color= (tacyg[\"Transaction_count\"].min(), tacyg[\"Transaction_count\"].max()), hover_name= \"States\", title = f\"{year} TRANSACTION COUNT\", fitbounds= \"locations\", height= 600, width= 600 )\n",
    "    \n",
    "    fig_india_2.update_geos(visible = False)\n",
    "    \n",
    "    fig_india_2.show()\n",
    "    \n",
    "    return tacy"
   ]
  },
  {
   "cell_type": "code",
   "execution_count": 14,
   "metadata": {},
   "outputs": [],
   "source": [
    "# Transaction_Quarter_Based\n",
    "def Transaction_amount_count_Y_Q(df, quarter):\n",
    "\n",
    "    tacy = df[df['Quarter'] == quarter]\n",
    "\n",
    "    tacy.reset_index(drop = True, inplace= True)\n",
    "\n",
    "    tacyg = tacy.groupby(\"States\")[['Transaction_count', 'Transaction_amount']].sum()\n",
    "\n",
    "    tacyg.reset_index(inplace = True)\n",
    "\n",
    "    fig_amount = px.bar(tacyg, x = 'States', y = 'Transaction_amount', title= f'{tacy['Years'].min()} YEAR {quarter} QUARTER TRANSACTION AMOUNT', color_discrete_sequence = px.colors.sequential.Aggrnyl, height= 650, width= 600)\n",
    "\n",
    "    fig_amount.show()\n",
    "\n",
    "    fig_count = px.bar(tacyg, x = 'States', y = 'Transaction_count', title= f'{tacy['Years'].min()} YEAR {quarter} QUARTER TRANSACTION COUNT', color_discrete_sequence = px.colors.sequential.Bluered_r, height= 650, width= 600)\n",
    "\n",
    "    fig_count.show()\n",
    "    \n",
    "    \n",
    "    # Geo Visvalisation Map\n",
    "\n",
    "    import requests\n",
    "    import json\n",
    "\n",
    "    url = \"https://gist.githubusercontent.com/jbrobst/56c13bbbf9d97d187fea01ca62ea5112/raw/e388c4cae20aa53cb5090210a42ebb9b765c0a36/india_states.geojson\"        #India_Map_Link\n",
    "\n",
    "    response = requests.get(url)\n",
    "\n",
    "    data1 = json.loads(response.content)\n",
    "\n",
    "    states_name = []\n",
    "\n",
    "    for feature in data1['features']:\n",
    "        states_name.append(feature['properties']['ST_NM'])\n",
    "        \n",
    "    states_name.sort()\n",
    "\n",
    "    fig_india_1 = px.choropleth(tacyg, geojson= data1, locations= \"States\", featureidkey= \"properties.ST_NM\", color= \"Transaction_amount\", color_continuous_scale= \"ylgn\", range_color= (tacyg[\"Transaction_amount\"].min(), tacyg[\"Transaction_amount\"].max()), hover_name= \"States\", title = f\"{tacy['Years'].min()} YEAR {quarter} QUARTER TRANSACTION AMOUNT\", fitbounds= \"locations\", height= 600, width= 600 )\n",
    "    \n",
    "    fig_india_1.update_geos(visible = False)\n",
    "    \n",
    "    fig_india_1.show()\n",
    "    \n",
    "    \n",
    "    fig_india_2 = px.choropleth(tacyg, geojson= data1, locations= \"States\", featureidkey= \"properties.ST_NM\", color= \"Transaction_count\", color_continuous_scale= \"ylgn\", range_color= (tacyg[\"Transaction_count\"].min(), tacyg[\"Transaction_count\"].max()), hover_name= \"States\", title = f\"{tacy['Years'].min()} YEAR {quarter} QUARTER TRANSACTION COUNT\", fitbounds= \"locations\", height= 600, width= 600 )\n",
    "    \n",
    "    fig_india_2.update_geos(visible = False)\n",
    "    \n",
    "    fig_india_2.show()\n",
    "    \n",
    "    return tacy"
   ]
  },
  {
   "cell_type": "code",
   "execution_count": 15,
   "metadata": {},
   "outputs": [],
   "source": [
    "# Transaction_type\n",
    "def Aggre_Tran_Transaction_type(df, state):\n",
    "\n",
    "    tacy = df[df['States'] == state]\n",
    "\n",
    "    tacy.reset_index(drop = True, inplace= True)\n",
    "\n",
    "    tacyg = tacy.groupby(\"Transaction_type\")[['Transaction_count', 'Transaction_amount']].sum()\n",
    "\n",
    "    tacyg.reset_index(inplace = True)\n",
    "\n",
    "    fig_pie_1 = px.pie(data_frame= tacyg, names= 'Transaction_type', values = 'Transaction_amount', \n",
    "                    width = 600, title = f'{state.upper()} TRANSACTION AMOUNT', hole = 0.5)\n",
    "\n",
    "    fig_pie_1.show()\n",
    "\n",
    "    fig_pie_2 = px.pie(data_frame= tacyg, names= 'Transaction_type', values = 'Transaction_count', \n",
    "                    width = 600, title = f'{state.upper()} TRANSACTION COUNT', hole = 0.5)\n",
    "\n",
    "    fig_pie_2.show()"
   ]
  },
  {
   "cell_type": "code",
   "execution_count": 16,
   "metadata": {},
   "outputs": [],
   "source": [
    "# Aggre_User_analysis_1\n",
    "def Aggre_user_plot_1(df, year):\n",
    "\n",
    "    aguy = df[df['Years'] == year]\n",
    "\n",
    "    aguy.reset_index(drop= True, inplace= True)\n",
    "\n",
    "    aguyg= pd.DataFrame(aguy.groupby(\"Brands\")['Transaction_count'].sum())\n",
    "\n",
    "    aguyg.reset_index(inplace = True)\n",
    "\n",
    "    fig_bar_1 = px.bar(aguyg, x = 'Brands', y = 'Transaction_count', title = f'{year} BRANDS AND TRANSACTION COUNT', width=1000, color_discrete_sequence= px.colors.sequential.haline_r, hover_name= \"Brands\")\n",
    "\n",
    "    fig_bar_1.show()\n",
    "    \n",
    "    return aguy"
   ]
  },
  {
   "cell_type": "code",
   "execution_count": 17,
   "metadata": {},
   "outputs": [],
   "source": [
    "# Aggre_user_Analysis_2\n",
    "def Aggre_user_plot_2(df, quarter):\n",
    "\n",
    "    aguyq = df[df['Quarter'] == quarter]\n",
    "\n",
    "    aguyq.reset_index(drop= True, inplace= True)\n",
    "\n",
    "    aguyqg = pd.DataFrame(aguyq.groupby(\"Brands\")[\"Transaction_count\"].sum())\n",
    "\n",
    "    aguyqg.reset_index(inplace = True)\n",
    "\n",
    "    fig_bar_1 = px.bar(aguyqg, x = 'Brands', y = 'Transaction_count', title = f'{quarter} QUARTER BRANDS AND TRANSACTION COUNT', width=1000, color_discrete_sequence= px.colors.sequential.haline_r, hover_name= \"Brands\")\n",
    "\n",
    "    fig_bar_1.show()\n",
    "\n",
    "    return aguyq\n"
   ]
  },
  {
   "cell_type": "code",
   "execution_count": 18,
   "metadata": {},
   "outputs": [],
   "source": [
    "# Aggre_user_analysis_3\n",
    "\n",
    "def Aggre_user_plot_3(df, state):\n",
    "\n",
    "    auygs = df[df['States'] == state]\n",
    "\n",
    "    auygs.reset_index(drop = True, inplace = True)\n",
    "\n",
    "    fig_line_1 = px.line(auygs, x = \"Brands\", y = \"Transaction_count\", hover_data= \"Percentage\", title= f\"{state.upper()} BRANDS, TRANSACTION COUNT, PERCENTAGE\", width= 1000, markers = True) \n",
    "\n",
    "    fig_line_1.show()"
   ]
  },
  {
   "cell_type": "code",
   "execution_count": 19,
   "metadata": {},
   "outputs": [],
   "source": [
    "# Map_insurance_district\n",
    "def Map_insur_District(df, state):\n",
    "\n",
    "    tacy = df[df['States'] == state]\n",
    "\n",
    "    tacy.reset_index(drop = True, inplace= True)\n",
    "\n",
    "    tacyg = tacy.groupby(\"District\")[['Transaction_count', 'Transaction_amount']].sum()\n",
    "\n",
    "    tacyg.reset_index(inplace = True)\n",
    "\n",
    "    fig_bar_1 = px.bar(tacyg, x = 'Transaction_amount', y = 'District', orientation= 'h', title= f\"{state.upper()} DISTRICT AND TRANSACTION AMOUNT\", color_discrete_sequence= px.colors.sequential.Mint_r)\n",
    "    fig_bar_1.show()\n",
    "\n",
    "    fig_bar_2 = px.bar(tacyg, x = 'Transaction_count', y = 'District', orientation= 'h', title= f\"{state} DISTRICT AND TRANSACTION COUNT\", color_discrete_sequence= px.colors.sequential.Mint_r)\n",
    "    \n",
    "    fig_bar_2.show()"
   ]
  },
  {
   "cell_type": "code",
   "execution_count": 49,
   "metadata": {},
   "outputs": [],
   "source": [
    "# Map_User_plot_1\n",
    "def map_user_plot_1(df, year):\n",
    "\n",
    "    muy = df[df['Years'] == year]\n",
    "\n",
    "    muy.reset_index(drop= True, inplace= True)\n",
    "\n",
    "    muyg= muy.groupby(\"States\")[['RegisteredUsers', 'AppOpens']].sum()\n",
    "\n",
    "    muyg.reset_index(inplace = True)\n",
    "\n",
    "    fig_line_1 = px.line(muyg, x = \"States\", y = [\"RegisteredUsers\", \"AppOpens\"], title= f\"{year} REGISTERED USER AND APPOPENS\", width= 1000, height = 800, markers = True) \n",
    "\n",
    "    fig_line_1.show()\n",
    "    \n",
    "    return muy"
   ]
  },
  {
   "cell_type": "code",
   "execution_count": 64,
   "metadata": {},
   "outputs": [],
   "source": [
    "# Map_User_plot_2\n",
    "def map_user_plot_2(df, quarter):\n",
    "\n",
    "    muyq = df[df['Quarter'] == quarter]\n",
    "\n",
    "    muyq.reset_index(drop= True, inplace= True)\n",
    "\n",
    "    muyqg= muyq.groupby(\"States\")[['RegisteredUsers', 'AppOpens']].sum()\n",
    "\n",
    "    muyqg.reset_index(inplace = True)\n",
    "\n",
    "    fig_line_1 = px.line(muyqg, x = \"States\", y = [\"RegisteredUsers\", \"AppOpens\"], title= f\"{df['Years'].min()} YEAR {quarter} QUARTER REGISTERED USER AND APPOPENS\", width= 1000, height = 800, markers = True, color_discrete_sequence= px.colors.sequential.Rainbow_r) \n",
    "\n",
    "    fig_line_1.show()\n",
    "    \n",
    "    return muyq"
   ]
  },
  {
   "cell_type": "code",
   "execution_count": 74,
   "metadata": {},
   "outputs": [],
   "source": [
    "# map_user_plot_3\n",
    "def map_user_plot_3(df, states):\n",
    "\n",
    "    muyqs = df[df['States'] == states]\n",
    "\n",
    "    muyqs.reset_index(drop= True, inplace= True)\n",
    "\n",
    "    fig_map_user_bar1 = px.bar(muyqs, x = 'RegisteredUsers', y = 'District', orientation= 'h', title = 'REGISTERED USER', height= 800, color_discrete_sequence= px.colors.sequential.Rainbow_r)\n",
    "\n",
    "    fig_map_user_bar1.show()\n",
    "\n",
    "    fig_map_user_bar2 = px.bar(muyqs, x = 'AppOpens', y = 'District', orientation= 'h', title = 'AppOpens', height= 800, color_discrete_sequence= px.colors.sequential.Rainbow)\n",
    "\n",
    "    fig_map_user_bar2.show()"
   ]
  },
  {
   "cell_type": "code",
   "execution_count": 93,
   "metadata": {},
   "outputs": [],
   "source": [
    "# top_insurance_plot_1\n",
    "def Top_insurance_plot_1(df, state): \n",
    "        \n",
    "    tiy = df[df['States'] == state]\n",
    "\n",
    "    tiy.reset_index(drop= True, inplace= True)\n",
    "\n",
    "    fig_top_insur_bar1 = px.bar(tiy, x = 'Quarter', y = 'Transaction_amount', hover_data= 'Pincodes', title = 'TRANSACTION AMOUNT', height= 650, width = 600, color_discrete_sequence= px.colors.sequential.GnBu_r)\n",
    "\n",
    "    fig_top_insur_bar1.show()\n",
    "    \n",
    "    fig_top_insur_bar2 = px.bar(tiy, x = 'Quarter', y = 'Transaction_count', hover_data= 'Pincodes', title = 'TRANSACTION COUNT', height= 650, width = 600, color_discrete_sequence= px.colors.sequential.Agsunset_r)\n",
    "\n",
    "    fig_top_insur_bar2.show()\n",
    "    "
   ]
  },
  {
   "cell_type": "code",
   "execution_count": null,
   "metadata": {},
   "outputs": [],
   "source": [
    "def top_user_plot_1(df, year):\n",
    "\n",
    "    tuy = df[df['Years'] == year]\n",
    "\n",
    "    tuy.reset_index(drop= True, inplace= True)\n",
    "\n",
    "    tuyg= pd.DataFrame(tuy.groupby([\"States\", \"Quarter\"])['RegisteredUsers'].sum())\n",
    "\n",
    "    tuyg.reset_index(inplace = True)\n",
    "\n",
    "    fig_top_plot_1 = px.bar(tuyg, x = 'States', y = 'RegisteredUsers', color = \"Quarter\", width = 1000, height = 800, color_discrete_sequence= px.colors.sequential.Burgyl, hover_name = \"States\", title= f'{year} REGISTERED USERS')\n",
    "\n",
    "    fig_top_plot_1.show()\n",
    "    \n",
    "    return tuy\n"
   ]
  },
  {
   "cell_type": "markdown",
   "metadata": {},
   "source": []
  },
  {
   "cell_type": "code",
   "execution_count": 144,
   "metadata": {},
   "outputs": [],
   "source": [
    "import pymysql as sql\n",
    "\n",
    "def top_chart_transaction_amount(table_name):\n",
    "    # sql connection \n",
    "\n",
    "    mydb = sql.connect(host=\"localhost\",\n",
    "                    user=\"root\",\n",
    "                    password=\"Iphone6+\",\n",
    "                    database= \"phonepe_data\"\n",
    "                    )\n",
    "    cursor = mydb.cursor()\n",
    "\n",
    "\n",
    "    # plot_1\n",
    "    query1 = f'''SELECT states, SUM(Transaction_amount) AS Transaction_amount\n",
    "                FROM {table_name}\n",
    "                GROUP BY states\n",
    "                ORDER BY Transaction_amount DESC\n",
    "                LIMIT 10;'''\n",
    "                \n",
    "    cursor.execute(query1)\n",
    "\n",
    "    table_1 = cursor.fetchall()\n",
    "\n",
    "    mydb.commit()\n",
    "\n",
    "    df_1 = pd.DataFrame(table_1, columns = [\"States\", \"Transaction_amount\"])\n",
    "\n",
    "    fig_amount_1 = px.bar(df_1, x = 'States', y = 'Transaction_amount', title= 'TRANSACTION AMOUNT', color_discrete_sequence = px.colors.sequential.Aggrnyl, height= 650, width= 600, hover_name= 'States')\n",
    "\n",
    "    fig_amount_1.show()\n",
    "\n",
    "\n",
    "\n",
    "    # plot_2\n",
    "    query2 = f'''SELECT states, SUM(Transaction_amount) AS Transaction_amount\n",
    "                FROM {table_name}\n",
    "                GROUP BY states\n",
    "                ORDER BY Transaction_amount \n",
    "                LIMIT 10;'''\n",
    "                \n",
    "    cursor.execute(query2)\n",
    "\n",
    "    table_2 = cursor.fetchall()\n",
    "\n",
    "    mydb.commit()\n",
    "\n",
    "    df_2 = pd.DataFrame(table_2, columns = [\"States\", \"Transaction_amount\"])\n",
    "\n",
    "    fig_amount_2 = px.bar(df_2, x = 'States', y = 'Transaction_amount', title= 'TRANSACTION AMOUNT', color_discrete_sequence = px.colors.sequential.Aggrnyl_r, height= 650, width= 600, hover_name= 'States')\n",
    "\n",
    "    fig_amount_2.show()\n",
    "\n",
    "\n",
    "\n",
    "\n",
    "    # plot_3\n",
    "    query3 = f'''SELECT states, AVG(Transaction_amount) AS Transaction_amount\n",
    "                FROM {table_name}\n",
    "                GROUP BY states\n",
    "                ORDER BY Transaction_amount;;'''\n",
    "                \n",
    "    cursor.execute(query3)\n",
    "\n",
    "    table_3 = cursor.fetchall()\n",
    "\n",
    "    mydb.commit()\n",
    "\n",
    "    df_3 = pd.DataFrame(table_3, columns = [\"States\", \"Transaction_amount\"])\n",
    "\n",
    "    fig_amount_3 = px.bar(df_3, y = 'States', x = 'Transaction_amount', title= 'TRANSACTION AMOUNT', color_discrete_sequence = px.colors.sequential.Bluered_r, height= 800, width= 1000, hover_name= 'States', orientation= 'h')\n",
    "\n",
    "    fig_amount_3.show()\n"
   ]
  },
  {
   "cell_type": "code",
   "execution_count": null,
   "metadata": {},
   "outputs": [],
   "source": [
    "top_chart_transaction_amount(\"aggregated_insurance\")"
   ]
  },
  {
   "cell_type": "code",
   "execution_count": 145,
   "metadata": {},
   "outputs": [],
   "source": [
    "import pymysql as sql\n",
    "\n",
    "def top_chart_transaction_count(table_name):\n",
    "    # sql connection \n",
    "\n",
    "    mydb = sql.connect(host=\"localhost\",\n",
    "                    user=\"root\",\n",
    "                    password=\"Iphone6+\",\n",
    "                    database= \"phonepe_data\"\n",
    "                    )\n",
    "    cursor = mydb.cursor()\n",
    "\n",
    "\n",
    "    # plot_1\n",
    "    query1 = f'''SELECT states, SUM(Transaction_count) AS Transaction_count\n",
    "                FROM {table_name}\n",
    "                GROUP BY states\n",
    "                ORDER BY Transaction_count DESC\n",
    "                LIMIT 10;'''\n",
    "                \n",
    "    cursor.execute(query1)\n",
    "\n",
    "    table_1 = cursor.fetchall()\n",
    "\n",
    "    mydb.commit()\n",
    "\n",
    "    df_1 = pd.DataFrame(table_1, columns = [\"States\", \"Transaction_count\"])\n",
    "\n",
    "    fig_amount_1 = px.bar(df_1, x = 'States', y = 'Transaction_count', title= 'TRANSACTION COUNT', color_discrete_sequence = px.colors.sequential.Aggrnyl, height= 650, width= 600, hover_name= 'States')\n",
    "\n",
    "    fig_amount_1.show()\n",
    "\n",
    "\n",
    "\n",
    "    # plot_2\n",
    "    query2 = f'''SELECT states, SUM(Transaction_count) AS Transaction_count\n",
    "                FROM {table_name}\n",
    "                GROUP BY states\n",
    "                ORDER BY Transaction_count \n",
    "                LIMIT 10;'''\n",
    "                \n",
    "    cursor.execute(query2)\n",
    "\n",
    "    table_2 = cursor.fetchall()\n",
    "\n",
    "    mydb.commit()\n",
    "\n",
    "    df_2 = pd.DataFrame(table_2, columns = [\"States\", \"Transaction_count\"])\n",
    "\n",
    "    fig_amount_2 = px.bar(df_2, x = 'States', y = 'Transaction_count', title= 'TRANSACTION COUNT', color_discrete_sequence = px.colors.sequential.Aggrnyl_r, height= 650, width= 600, hover_name= 'States')\n",
    "\n",
    "    fig_amount_2.show()\n",
    "\n",
    "\n",
    "\n",
    "\n",
    "    # plot_3\n",
    "    query3 = f'''SELECT states, AVG(Transaction_count) AS Transaction_count\n",
    "                FROM {table_name}\n",
    "                GROUP BY states\n",
    "                ORDER BY Transaction_count;'''\n",
    "                \n",
    "    cursor.execute(query3)\n",
    "\n",
    "    table_3 = cursor.fetchall()\n",
    "\n",
    "    mydb.commit()\n",
    "\n",
    "    df_3 = pd.DataFrame(table_3, columns = [\"States\", \"Transaction_count\"])\n",
    "\n",
    "    fig_amount_3 = px.bar(df_3, y = 'States', x = 'Transaction_count', title= 'TRANSACTION COUNT', color_discrete_sequence = px.colors.sequential.Bluered_r, height= 800, width= 1000, hover_name= 'States', orientation= 'h')\n",
    "\n",
    "    fig_amount_3.show()\n"
   ]
  },
  {
   "cell_type": "code",
   "execution_count": null,
   "metadata": {},
   "outputs": [],
   "source": [
    "top_chart_transaction_count('aggregated_insurance')"
   ]
  },
  {
   "cell_type": "code",
   "execution_count": 150,
   "metadata": {},
   "outputs": [],
   "source": [
    "import pymysql as sql\n",
    "\n",
    "def top_chart_registered_user(table_name, state):\n",
    "    # sql connection \n",
    "\n",
    "    mydb = sql.connect(host=\"localhost\",\n",
    "                    user=\"root\",\n",
    "                    password=\"Iphone6+\",\n",
    "                    database= \"phonepe_data\"\n",
    "                    )\n",
    "    cursor = mydb.cursor()\n",
    "\n",
    "\n",
    "    # plot_1\n",
    "    query1 = f'''SELECT Districs, SUM(RegisteredUsers) AS RegisteredUser \n",
    "                 FROM {table_name}\n",
    "                 WHERE States = '{state}'\n",
    "                 GROUP BY Districs\n",
    "                 ORDER BY RegisteredUser DESC\n",
    "                 LIMIT 10;'''\n",
    "                \n",
    "    cursor.execute(query1)\n",
    "\n",
    "    table_1 = cursor.fetchall()\n",
    "\n",
    "    mydb.commit()\n",
    "\n",
    "    df_1 = pd.DataFrame(table_1, columns = [\"Districs\", \"RegisteredUser\"])\n",
    "\n",
    "    fig_amount_1 = px.bar(df_1, x = 'Districs', y = 'RegisteredUser', title= 'TOP 10 OF REGISTERED USER', color_discrete_sequence = px.colors.sequential.Aggrnyl, height= 650, width= 600, hover_name= 'Districs')\n",
    "\n",
    "    fig_amount_1.show()\n",
    "\n",
    "\n",
    "\n",
    "    # plot_2\n",
    "    query2 = f'''SELECT Districs, SUM(RegisteredUsers) AS RegisteredUser \n",
    "                 FROM {table_name}\n",
    "                 WHERE States = '{state}' \n",
    "                 GROUP BY Districs\n",
    "                 ORDER BY RegisteredUser \n",
    "                 LIMIT 10;'''\n",
    "                \n",
    "    cursor.execute(query2)\n",
    "\n",
    "    table_2 = cursor.fetchall()\n",
    "\n",
    "    mydb.commit()\n",
    "\n",
    "    df_2 = pd.DataFrame(table_2, columns = [\"Districs\", \"RegisteredUser\"])\n",
    "\n",
    "    fig_amount_2 = px.bar(df_2, x = 'Districs', y = 'RegisteredUser', title= 'LAST 10 OF REGISTERED USER', color_discrete_sequence = px.colors.sequential.Aggrnyl_r, height= 650, width= 600, hover_name= 'Districs')\n",
    "\n",
    "    fig_amount_2.show()\n",
    "\n",
    "\n",
    "\n",
    "\n",
    "    # plot_3\n",
    "    query3 = f'''SELECT Districs, AVG(RegisteredUsers) AS RegisteredUser \n",
    "                 FROM {table_name}\n",
    "                 WHERE States = '{state}' \n",
    "                 GROUP BY Districs\n",
    "                 ORDER BY RegisteredUser;'''\n",
    "                                \n",
    "    cursor.execute(query3)\n",
    "\n",
    "    table_3 = cursor.fetchall()\n",
    "\n",
    "    mydb.commit()\n",
    "\n",
    "    df_3 = pd.DataFrame(table_3, columns = [\"Districs\", \"RegisteredUser\"])\n",
    "\n",
    "    fig_amount_3 = px.bar(df_3, y = 'Districs', x = 'RegisteredUser', title= 'AVERAGE 10 OF REGISTERED USER', color_discrete_sequence = px.colors.sequential.Bluered_r, height= 800, width= 1000, hover_name= 'Districs', orientation= 'h')\n",
    "\n",
    "    fig_amount_3.show()\n"
   ]
  },
  {
   "cell_type": "code",
   "execution_count": null,
   "metadata": {},
   "outputs": [],
   "source": [
    "top_chart_registered_user('map_user', 'Tamil Nadu')"
   ]
  },
  {
   "cell_type": "code",
   "execution_count": 155,
   "metadata": {},
   "outputs": [],
   "source": [
    "import pymysql as sql\n",
    "\n",
    "def top_chart_appopens(table_name, state):\n",
    "    # sql connection \n",
    "\n",
    "    mydb = sql.connect(host=\"localhost\",\n",
    "                    user=\"root\",\n",
    "                    password=\"Iphone6+\",\n",
    "                    database= \"phonepe_data\"\n",
    "                    )\n",
    "    cursor = mydb.cursor()\n",
    "\n",
    "\n",
    "    # plot_1\n",
    "    query1 = f'''SELECT Districs, SUM(AppOpens) AS AppOpens \n",
    "                 FROM {table_name}\n",
    "                 WHERE States = '{state}'\n",
    "                 GROUP BY Districs\n",
    "                 ORDER BY AppOpens DESC\n",
    "                 LIMIT 10;'''\n",
    "                \n",
    "    cursor.execute(query1)\n",
    "\n",
    "    table_1 = cursor.fetchall()\n",
    "\n",
    "    mydb.commit()\n",
    "\n",
    "    df_1 = pd.DataFrame(table_1, columns = [\"Districs\", \"AppOpens\"])\n",
    "\n",
    "    fig_amount_1 = px.bar(df_1, x = 'Districs', y = 'AppOpens', title= 'TOP 10 OF AppOpens', color_discrete_sequence = px.colors.sequential.Aggrnyl, height= 650, width= 600, hover_name= 'Districs')\n",
    "\n",
    "    fig_amount_1.show()\n",
    "\n",
    "\n",
    "\n",
    "    # plot_2\n",
    "    query2 = f'''SELECT Districs, SUM(AppOpens) AS AppOpens \n",
    "                 FROM {table_name}\n",
    "                 WHERE States = '{state}' \n",
    "                 GROUP BY Districs\n",
    "                 ORDER BY AppOpens \n",
    "                 LIMIT 10;'''\n",
    "                \n",
    "    cursor.execute(query2)\n",
    "\n",
    "    table_2 = cursor.fetchall()\n",
    "\n",
    "    mydb.commit()\n",
    "\n",
    "    df_2 = pd.DataFrame(table_2, columns = [\"Districs\", \"AppOpens\"])\n",
    "\n",
    "    fig_amount_2 = px.bar(df_2, x = 'Districs', y = 'AppOpens', title= 'LAST 10 OF AppOpens', color_discrete_sequence = px.colors.sequential.Aggrnyl_r, height= 650, width= 600, hover_name= 'Districs')\n",
    "\n",
    "    fig_amount_2.show()\n",
    "\n",
    "\n",
    "\n",
    "\n",
    "    # plot_3\n",
    "    query3 = f'''SELECT Districs, AVG(AppOpens) AS AppOpens \n",
    "                 FROM {table_name}\n",
    "                 WHERE States = '{state}' \n",
    "                 GROUP BY Districs\n",
    "                 ORDER BY AppOpens;'''\n",
    "                                \n",
    "    cursor.execute(query3)\n",
    "\n",
    "    table_3 = cursor.fetchall()\n",
    "\n",
    "    mydb.commit()\n",
    "\n",
    "    df_3 = pd.DataFrame(table_3, columns = [\"Districs\", \"AppOpens\"])\n",
    "\n",
    "    fig_amount_3 = px.bar(df_3, y = 'Districs', x = 'AppOpens', title= 'AVERAGE 10 OF AppOpens', color_discrete_sequence = px.colors.sequential.Bluered_r, height= 800, width= 1000, hover_name= 'Districs', orientation= 'h')\n",
    "\n",
    "    fig_amount_3.show()\n"
   ]
  },
  {
   "cell_type": "code",
   "execution_count": null,
   "metadata": {},
   "outputs": [],
   "source": [
    "top_chart_appopens('map_user', 'Tamil Nadu')"
   ]
  },
  {
   "cell_type": "code",
   "execution_count": 160,
   "metadata": {},
   "outputs": [],
   "source": [
    "import pymysql as sql\n",
    "\n",
    "def top_chart_registered_users(table_name):\n",
    "    # sql connection \n",
    "\n",
    "    mydb = sql.connect(host=\"localhost\",\n",
    "                    user=\"root\",\n",
    "                    password=\"Iphone6+\",\n",
    "                    database= \"phonepe_data\"\n",
    "                    )\n",
    "    cursor = mydb.cursor()\n",
    "\n",
    "\n",
    "    # plot_1\n",
    "    query1 = f'''SELECT States, SUM(RegisteredUsers) AS RegisteredUsers\n",
    "                 FROM {table_name}\n",
    "                 GROUP BY States\n",
    "                 ORDER BY RegisteredUsers DESC\n",
    "                 LIMIT 10;'''\n",
    "                \n",
    "    cursor.execute(query1)\n",
    "\n",
    "    table_1 = cursor.fetchall()\n",
    "\n",
    "    mydb.commit()\n",
    "\n",
    "    df_1 = pd.DataFrame(table_1, columns = [\"States\", \"RegisteredUsers\"])\n",
    "\n",
    "    fig_amount_1 = px.bar(df_1, x = 'States', y = 'RegisteredUsers', title= 'TOP 10 OF REGISTERED USERS', color_discrete_sequence = px.colors.sequential.Aggrnyl, height= 650, width= 600, hover_name= 'States')\n",
    "\n",
    "    fig_amount_1.show()\n",
    "\n",
    "\n",
    "\n",
    "    # plot_2\n",
    "    query2 = f'''SELECT States, SUM(RegisteredUsers) AS RegisteredUsers\n",
    "                 FROM {table_name}\n",
    "                 GROUP BY States\n",
    "                 ORDER BY RegisteredUsers\n",
    "                 LIMIT 10;'''\n",
    "                \n",
    "    cursor.execute(query2)\n",
    "\n",
    "    table_2 = cursor.fetchall()\n",
    "\n",
    "    mydb.commit()\n",
    "\n",
    "    df_2 = pd.DataFrame(table_2, columns = [\"States\", \"RegisteredUsers\"])\n",
    "\n",
    "    fig_amount_2 = px.bar(df_2, x = 'States', y = 'RegisteredUsers', title= 'LAST 10 OF REGISTERED USERS', color_discrete_sequence = px.colors.sequential.Aggrnyl_r, height= 650, width= 600, hover_name= 'States')\n",
    "\n",
    "    fig_amount_2.show()\n",
    "\n",
    "\n",
    "\n",
    "\n",
    "    # plot_3\n",
    "    query3 = f'''SELECT States, AVG(RegisteredUsers) AS RegisteredUsers\n",
    "                 FROM {table_name}\n",
    "                 GROUP BY States\n",
    "                 ORDER BY RegisteredUsers;'''\n",
    "                                \n",
    "    cursor.execute(query3)\n",
    "\n",
    "    table_3 = cursor.fetchall()\n",
    "\n",
    "    mydb.commit()\n",
    "\n",
    "    df_3 = pd.DataFrame(table_3, columns = [\"States\", \"RegisteredUsers\"])\n",
    "\n",
    "    fig_amount_3 = px.bar(df_3, y = 'States', x = 'RegisteredUsers', title= 'AVERAGE 10 OF REGISTERED USERS', color_discrete_sequence = px.colors.sequential.Bluered_r, height= 800, width= 1000, hover_name= 'States', orientation= 'h')\n",
    "\n",
    "    fig_amount_3.show()\n"
   ]
  },
  {
   "cell_type": "code",
   "execution_count": 161,
   "metadata": {},
   "outputs": [
    {
     "data": {
      "application/vnd.plotly.v1+json": {
       "config": {
        "plotlyServerURL": "https://plot.ly"
       },
       "data": [
        {
         "alignmentgroup": "True",
         "hovertemplate": "<b>%{hovertext}</b><br><br>States=%{x}<br>RegisteredUsers=%{y}<extra></extra>",
         "hovertext": [
          "Delhi",
          "Karnataka",
          "Uttar Pradesh",
          "Maharashtra",
          "Haryana",
          "Telangana",
          "Rajasthan",
          "Gujarat",
          "Madhya Pradesh",
          "Bihar"
         ],
         "legendgroup": "",
         "marker": {
          "color": "rgb(36, 86, 104)",
          "pattern": {
           "shape": ""
          }
         },
         "name": "",
         "offsetgroup": "",
         "orientation": "v",
         "showlegend": false,
         "textposition": "auto",
         "type": "bar",
         "x": [
          "Delhi",
          "Karnataka",
          "Uttar Pradesh",
          "Maharashtra",
          "Haryana",
          "Telangana",
          "Rajasthan",
          "Gujarat",
          "Madhya Pradesh",
          "Bihar"
         ],
         "xaxis": "x",
         "y": [
          80104448,
          73960197,
          71232188,
          71220970,
          61140068,
          58367890,
          53656303,
          44445427,
          42375591,
          39013604
         ],
         "yaxis": "y"
        }
       ],
       "layout": {
        "barmode": "relative",
        "height": 650,
        "legend": {
         "tracegroupgap": 0
        },
        "template": {
         "data": {
          "bar": [
           {
            "error_x": {
             "color": "#2a3f5f"
            },
            "error_y": {
             "color": "#2a3f5f"
            },
            "marker": {
             "line": {
              "color": "#E5ECF6",
              "width": 0.5
             },
             "pattern": {
              "fillmode": "overlay",
              "size": 10,
              "solidity": 0.2
             }
            },
            "type": "bar"
           }
          ],
          "barpolar": [
           {
            "marker": {
             "line": {
              "color": "#E5ECF6",
              "width": 0.5
             },
             "pattern": {
              "fillmode": "overlay",
              "size": 10,
              "solidity": 0.2
             }
            },
            "type": "barpolar"
           }
          ],
          "carpet": [
           {
            "aaxis": {
             "endlinecolor": "#2a3f5f",
             "gridcolor": "white",
             "linecolor": "white",
             "minorgridcolor": "white",
             "startlinecolor": "#2a3f5f"
            },
            "baxis": {
             "endlinecolor": "#2a3f5f",
             "gridcolor": "white",
             "linecolor": "white",
             "minorgridcolor": "white",
             "startlinecolor": "#2a3f5f"
            },
            "type": "carpet"
           }
          ],
          "choropleth": [
           {
            "colorbar": {
             "outlinewidth": 0,
             "ticks": ""
            },
            "type": "choropleth"
           }
          ],
          "contour": [
           {
            "colorbar": {
             "outlinewidth": 0,
             "ticks": ""
            },
            "colorscale": [
             [
              0,
              "#0d0887"
             ],
             [
              0.1111111111111111,
              "#46039f"
             ],
             [
              0.2222222222222222,
              "#7201a8"
             ],
             [
              0.3333333333333333,
              "#9c179e"
             ],
             [
              0.4444444444444444,
              "#bd3786"
             ],
             [
              0.5555555555555556,
              "#d8576b"
             ],
             [
              0.6666666666666666,
              "#ed7953"
             ],
             [
              0.7777777777777778,
              "#fb9f3a"
             ],
             [
              0.8888888888888888,
              "#fdca26"
             ],
             [
              1,
              "#f0f921"
             ]
            ],
            "type": "contour"
           }
          ],
          "contourcarpet": [
           {
            "colorbar": {
             "outlinewidth": 0,
             "ticks": ""
            },
            "type": "contourcarpet"
           }
          ],
          "heatmap": [
           {
            "colorbar": {
             "outlinewidth": 0,
             "ticks": ""
            },
            "colorscale": [
             [
              0,
              "#0d0887"
             ],
             [
              0.1111111111111111,
              "#46039f"
             ],
             [
              0.2222222222222222,
              "#7201a8"
             ],
             [
              0.3333333333333333,
              "#9c179e"
             ],
             [
              0.4444444444444444,
              "#bd3786"
             ],
             [
              0.5555555555555556,
              "#d8576b"
             ],
             [
              0.6666666666666666,
              "#ed7953"
             ],
             [
              0.7777777777777778,
              "#fb9f3a"
             ],
             [
              0.8888888888888888,
              "#fdca26"
             ],
             [
              1,
              "#f0f921"
             ]
            ],
            "type": "heatmap"
           }
          ],
          "heatmapgl": [
           {
            "colorbar": {
             "outlinewidth": 0,
             "ticks": ""
            },
            "colorscale": [
             [
              0,
              "#0d0887"
             ],
             [
              0.1111111111111111,
              "#46039f"
             ],
             [
              0.2222222222222222,
              "#7201a8"
             ],
             [
              0.3333333333333333,
              "#9c179e"
             ],
             [
              0.4444444444444444,
              "#bd3786"
             ],
             [
              0.5555555555555556,
              "#d8576b"
             ],
             [
              0.6666666666666666,
              "#ed7953"
             ],
             [
              0.7777777777777778,
              "#fb9f3a"
             ],
             [
              0.8888888888888888,
              "#fdca26"
             ],
             [
              1,
              "#f0f921"
             ]
            ],
            "type": "heatmapgl"
           }
          ],
          "histogram": [
           {
            "marker": {
             "pattern": {
              "fillmode": "overlay",
              "size": 10,
              "solidity": 0.2
             }
            },
            "type": "histogram"
           }
          ],
          "histogram2d": [
           {
            "colorbar": {
             "outlinewidth": 0,
             "ticks": ""
            },
            "colorscale": [
             [
              0,
              "#0d0887"
             ],
             [
              0.1111111111111111,
              "#46039f"
             ],
             [
              0.2222222222222222,
              "#7201a8"
             ],
             [
              0.3333333333333333,
              "#9c179e"
             ],
             [
              0.4444444444444444,
              "#bd3786"
             ],
             [
              0.5555555555555556,
              "#d8576b"
             ],
             [
              0.6666666666666666,
              "#ed7953"
             ],
             [
              0.7777777777777778,
              "#fb9f3a"
             ],
             [
              0.8888888888888888,
              "#fdca26"
             ],
             [
              1,
              "#f0f921"
             ]
            ],
            "type": "histogram2d"
           }
          ],
          "histogram2dcontour": [
           {
            "colorbar": {
             "outlinewidth": 0,
             "ticks": ""
            },
            "colorscale": [
             [
              0,
              "#0d0887"
             ],
             [
              0.1111111111111111,
              "#46039f"
             ],
             [
              0.2222222222222222,
              "#7201a8"
             ],
             [
              0.3333333333333333,
              "#9c179e"
             ],
             [
              0.4444444444444444,
              "#bd3786"
             ],
             [
              0.5555555555555556,
              "#d8576b"
             ],
             [
              0.6666666666666666,
              "#ed7953"
             ],
             [
              0.7777777777777778,
              "#fb9f3a"
             ],
             [
              0.8888888888888888,
              "#fdca26"
             ],
             [
              1,
              "#f0f921"
             ]
            ],
            "type": "histogram2dcontour"
           }
          ],
          "mesh3d": [
           {
            "colorbar": {
             "outlinewidth": 0,
             "ticks": ""
            },
            "type": "mesh3d"
           }
          ],
          "parcoords": [
           {
            "line": {
             "colorbar": {
              "outlinewidth": 0,
              "ticks": ""
             }
            },
            "type": "parcoords"
           }
          ],
          "pie": [
           {
            "automargin": true,
            "type": "pie"
           }
          ],
          "scatter": [
           {
            "fillpattern": {
             "fillmode": "overlay",
             "size": 10,
             "solidity": 0.2
            },
            "type": "scatter"
           }
          ],
          "scatter3d": [
           {
            "line": {
             "colorbar": {
              "outlinewidth": 0,
              "ticks": ""
             }
            },
            "marker": {
             "colorbar": {
              "outlinewidth": 0,
              "ticks": ""
             }
            },
            "type": "scatter3d"
           }
          ],
          "scattercarpet": [
           {
            "marker": {
             "colorbar": {
              "outlinewidth": 0,
              "ticks": ""
             }
            },
            "type": "scattercarpet"
           }
          ],
          "scattergeo": [
           {
            "marker": {
             "colorbar": {
              "outlinewidth": 0,
              "ticks": ""
             }
            },
            "type": "scattergeo"
           }
          ],
          "scattergl": [
           {
            "marker": {
             "colorbar": {
              "outlinewidth": 0,
              "ticks": ""
             }
            },
            "type": "scattergl"
           }
          ],
          "scattermapbox": [
           {
            "marker": {
             "colorbar": {
              "outlinewidth": 0,
              "ticks": ""
             }
            },
            "type": "scattermapbox"
           }
          ],
          "scatterpolar": [
           {
            "marker": {
             "colorbar": {
              "outlinewidth": 0,
              "ticks": ""
             }
            },
            "type": "scatterpolar"
           }
          ],
          "scatterpolargl": [
           {
            "marker": {
             "colorbar": {
              "outlinewidth": 0,
              "ticks": ""
             }
            },
            "type": "scatterpolargl"
           }
          ],
          "scatterternary": [
           {
            "marker": {
             "colorbar": {
              "outlinewidth": 0,
              "ticks": ""
             }
            },
            "type": "scatterternary"
           }
          ],
          "surface": [
           {
            "colorbar": {
             "outlinewidth": 0,
             "ticks": ""
            },
            "colorscale": [
             [
              0,
              "#0d0887"
             ],
             [
              0.1111111111111111,
              "#46039f"
             ],
             [
              0.2222222222222222,
              "#7201a8"
             ],
             [
              0.3333333333333333,
              "#9c179e"
             ],
             [
              0.4444444444444444,
              "#bd3786"
             ],
             [
              0.5555555555555556,
              "#d8576b"
             ],
             [
              0.6666666666666666,
              "#ed7953"
             ],
             [
              0.7777777777777778,
              "#fb9f3a"
             ],
             [
              0.8888888888888888,
              "#fdca26"
             ],
             [
              1,
              "#f0f921"
             ]
            ],
            "type": "surface"
           }
          ],
          "table": [
           {
            "cells": {
             "fill": {
              "color": "#EBF0F8"
             },
             "line": {
              "color": "white"
             }
            },
            "header": {
             "fill": {
              "color": "#C8D4E3"
             },
             "line": {
              "color": "white"
             }
            },
            "type": "table"
           }
          ]
         },
         "layout": {
          "annotationdefaults": {
           "arrowcolor": "#2a3f5f",
           "arrowhead": 0,
           "arrowwidth": 1
          },
          "autotypenumbers": "strict",
          "coloraxis": {
           "colorbar": {
            "outlinewidth": 0,
            "ticks": ""
           }
          },
          "colorscale": {
           "diverging": [
            [
             0,
             "#8e0152"
            ],
            [
             0.1,
             "#c51b7d"
            ],
            [
             0.2,
             "#de77ae"
            ],
            [
             0.3,
             "#f1b6da"
            ],
            [
             0.4,
             "#fde0ef"
            ],
            [
             0.5,
             "#f7f7f7"
            ],
            [
             0.6,
             "#e6f5d0"
            ],
            [
             0.7,
             "#b8e186"
            ],
            [
             0.8,
             "#7fbc41"
            ],
            [
             0.9,
             "#4d9221"
            ],
            [
             1,
             "#276419"
            ]
           ],
           "sequential": [
            [
             0,
             "#0d0887"
            ],
            [
             0.1111111111111111,
             "#46039f"
            ],
            [
             0.2222222222222222,
             "#7201a8"
            ],
            [
             0.3333333333333333,
             "#9c179e"
            ],
            [
             0.4444444444444444,
             "#bd3786"
            ],
            [
             0.5555555555555556,
             "#d8576b"
            ],
            [
             0.6666666666666666,
             "#ed7953"
            ],
            [
             0.7777777777777778,
             "#fb9f3a"
            ],
            [
             0.8888888888888888,
             "#fdca26"
            ],
            [
             1,
             "#f0f921"
            ]
           ],
           "sequentialminus": [
            [
             0,
             "#0d0887"
            ],
            [
             0.1111111111111111,
             "#46039f"
            ],
            [
             0.2222222222222222,
             "#7201a8"
            ],
            [
             0.3333333333333333,
             "#9c179e"
            ],
            [
             0.4444444444444444,
             "#bd3786"
            ],
            [
             0.5555555555555556,
             "#d8576b"
            ],
            [
             0.6666666666666666,
             "#ed7953"
            ],
            [
             0.7777777777777778,
             "#fb9f3a"
            ],
            [
             0.8888888888888888,
             "#fdca26"
            ],
            [
             1,
             "#f0f921"
            ]
           ]
          },
          "colorway": [
           "#636efa",
           "#EF553B",
           "#00cc96",
           "#ab63fa",
           "#FFA15A",
           "#19d3f3",
           "#FF6692",
           "#B6E880",
           "#FF97FF",
           "#FECB52"
          ],
          "font": {
           "color": "#2a3f5f"
          },
          "geo": {
           "bgcolor": "white",
           "lakecolor": "white",
           "landcolor": "#E5ECF6",
           "showlakes": true,
           "showland": true,
           "subunitcolor": "white"
          },
          "hoverlabel": {
           "align": "left"
          },
          "hovermode": "closest",
          "mapbox": {
           "style": "light"
          },
          "paper_bgcolor": "white",
          "plot_bgcolor": "#E5ECF6",
          "polar": {
           "angularaxis": {
            "gridcolor": "white",
            "linecolor": "white",
            "ticks": ""
           },
           "bgcolor": "#E5ECF6",
           "radialaxis": {
            "gridcolor": "white",
            "linecolor": "white",
            "ticks": ""
           }
          },
          "scene": {
           "xaxis": {
            "backgroundcolor": "#E5ECF6",
            "gridcolor": "white",
            "gridwidth": 2,
            "linecolor": "white",
            "showbackground": true,
            "ticks": "",
            "zerolinecolor": "white"
           },
           "yaxis": {
            "backgroundcolor": "#E5ECF6",
            "gridcolor": "white",
            "gridwidth": 2,
            "linecolor": "white",
            "showbackground": true,
            "ticks": "",
            "zerolinecolor": "white"
           },
           "zaxis": {
            "backgroundcolor": "#E5ECF6",
            "gridcolor": "white",
            "gridwidth": 2,
            "linecolor": "white",
            "showbackground": true,
            "ticks": "",
            "zerolinecolor": "white"
           }
          },
          "shapedefaults": {
           "line": {
            "color": "#2a3f5f"
           }
          },
          "ternary": {
           "aaxis": {
            "gridcolor": "white",
            "linecolor": "white",
            "ticks": ""
           },
           "baxis": {
            "gridcolor": "white",
            "linecolor": "white",
            "ticks": ""
           },
           "bgcolor": "#E5ECF6",
           "caxis": {
            "gridcolor": "white",
            "linecolor": "white",
            "ticks": ""
           }
          },
          "title": {
           "x": 0.05
          },
          "xaxis": {
           "automargin": true,
           "gridcolor": "white",
           "linecolor": "white",
           "ticks": "",
           "title": {
            "standoff": 15
           },
           "zerolinecolor": "white",
           "zerolinewidth": 2
          },
          "yaxis": {
           "automargin": true,
           "gridcolor": "white",
           "linecolor": "white",
           "ticks": "",
           "title": {
            "standoff": 15
           },
           "zerolinecolor": "white",
           "zerolinewidth": 2
          }
         }
        },
        "title": {
         "text": "TOP 10 OF REGISTERED USERS"
        },
        "width": 600,
        "xaxis": {
         "anchor": "y",
         "domain": [
          0,
          1
         ],
         "title": {
          "text": "States"
         }
        },
        "yaxis": {
         "anchor": "x",
         "domain": [
          0,
          1
         ],
         "title": {
          "text": "RegisteredUsers"
         }
        }
       }
      }
     },
     "metadata": {},
     "output_type": "display_data"
    },
    {
     "data": {
      "application/vnd.plotly.v1+json": {
       "config": {
        "plotlyServerURL": "https://plot.ly"
       },
       "data": [
        {
         "alignmentgroup": "True",
         "hovertemplate": "<b>%{hovertext}</b><br><br>States=%{x}<br>RegisteredUsers=%{y}<extra></extra>",
         "hovertext": [
          "Lakshadweep",
          "Andaman & Nicobar",
          "Mizoram",
          "Ladakh",
          "Meghalaya",
          "Nagaland",
          "Sikkim",
          "Arunachal Pradesh",
          "Manipur",
          "Tripura"
         ],
         "legendgroup": "",
         "marker": {
          "color": "rgb(237, 239, 93)",
          "pattern": {
           "shape": ""
          }
         },
         "name": "",
         "offsetgroup": "",
         "orientation": "v",
         "showlegend": false,
         "textposition": "auto",
         "type": "bar",
         "x": [
          "Lakshadweep",
          "Andaman & Nicobar",
          "Mizoram",
          "Ladakh",
          "Meghalaya",
          "Nagaland",
          "Sikkim",
          "Arunachal Pradesh",
          "Manipur",
          "Tripura"
         ],
         "xaxis": "x",
         "y": [
          119533,
          1300538,
          1463708,
          1748269,
          2556413,
          3366608,
          3408791,
          3776554,
          4063676,
          4298194
         ],
         "yaxis": "y"
        }
       ],
       "layout": {
        "barmode": "relative",
        "height": 650,
        "legend": {
         "tracegroupgap": 0
        },
        "template": {
         "data": {
          "bar": [
           {
            "error_x": {
             "color": "#2a3f5f"
            },
            "error_y": {
             "color": "#2a3f5f"
            },
            "marker": {
             "line": {
              "color": "#E5ECF6",
              "width": 0.5
             },
             "pattern": {
              "fillmode": "overlay",
              "size": 10,
              "solidity": 0.2
             }
            },
            "type": "bar"
           }
          ],
          "barpolar": [
           {
            "marker": {
             "line": {
              "color": "#E5ECF6",
              "width": 0.5
             },
             "pattern": {
              "fillmode": "overlay",
              "size": 10,
              "solidity": 0.2
             }
            },
            "type": "barpolar"
           }
          ],
          "carpet": [
           {
            "aaxis": {
             "endlinecolor": "#2a3f5f",
             "gridcolor": "white",
             "linecolor": "white",
             "minorgridcolor": "white",
             "startlinecolor": "#2a3f5f"
            },
            "baxis": {
             "endlinecolor": "#2a3f5f",
             "gridcolor": "white",
             "linecolor": "white",
             "minorgridcolor": "white",
             "startlinecolor": "#2a3f5f"
            },
            "type": "carpet"
           }
          ],
          "choropleth": [
           {
            "colorbar": {
             "outlinewidth": 0,
             "ticks": ""
            },
            "type": "choropleth"
           }
          ],
          "contour": [
           {
            "colorbar": {
             "outlinewidth": 0,
             "ticks": ""
            },
            "colorscale": [
             [
              0,
              "#0d0887"
             ],
             [
              0.1111111111111111,
              "#46039f"
             ],
             [
              0.2222222222222222,
              "#7201a8"
             ],
             [
              0.3333333333333333,
              "#9c179e"
             ],
             [
              0.4444444444444444,
              "#bd3786"
             ],
             [
              0.5555555555555556,
              "#d8576b"
             ],
             [
              0.6666666666666666,
              "#ed7953"
             ],
             [
              0.7777777777777778,
              "#fb9f3a"
             ],
             [
              0.8888888888888888,
              "#fdca26"
             ],
             [
              1,
              "#f0f921"
             ]
            ],
            "type": "contour"
           }
          ],
          "contourcarpet": [
           {
            "colorbar": {
             "outlinewidth": 0,
             "ticks": ""
            },
            "type": "contourcarpet"
           }
          ],
          "heatmap": [
           {
            "colorbar": {
             "outlinewidth": 0,
             "ticks": ""
            },
            "colorscale": [
             [
              0,
              "#0d0887"
             ],
             [
              0.1111111111111111,
              "#46039f"
             ],
             [
              0.2222222222222222,
              "#7201a8"
             ],
             [
              0.3333333333333333,
              "#9c179e"
             ],
             [
              0.4444444444444444,
              "#bd3786"
             ],
             [
              0.5555555555555556,
              "#d8576b"
             ],
             [
              0.6666666666666666,
              "#ed7953"
             ],
             [
              0.7777777777777778,
              "#fb9f3a"
             ],
             [
              0.8888888888888888,
              "#fdca26"
             ],
             [
              1,
              "#f0f921"
             ]
            ],
            "type": "heatmap"
           }
          ],
          "heatmapgl": [
           {
            "colorbar": {
             "outlinewidth": 0,
             "ticks": ""
            },
            "colorscale": [
             [
              0,
              "#0d0887"
             ],
             [
              0.1111111111111111,
              "#46039f"
             ],
             [
              0.2222222222222222,
              "#7201a8"
             ],
             [
              0.3333333333333333,
              "#9c179e"
             ],
             [
              0.4444444444444444,
              "#bd3786"
             ],
             [
              0.5555555555555556,
              "#d8576b"
             ],
             [
              0.6666666666666666,
              "#ed7953"
             ],
             [
              0.7777777777777778,
              "#fb9f3a"
             ],
             [
              0.8888888888888888,
              "#fdca26"
             ],
             [
              1,
              "#f0f921"
             ]
            ],
            "type": "heatmapgl"
           }
          ],
          "histogram": [
           {
            "marker": {
             "pattern": {
              "fillmode": "overlay",
              "size": 10,
              "solidity": 0.2
             }
            },
            "type": "histogram"
           }
          ],
          "histogram2d": [
           {
            "colorbar": {
             "outlinewidth": 0,
             "ticks": ""
            },
            "colorscale": [
             [
              0,
              "#0d0887"
             ],
             [
              0.1111111111111111,
              "#46039f"
             ],
             [
              0.2222222222222222,
              "#7201a8"
             ],
             [
              0.3333333333333333,
              "#9c179e"
             ],
             [
              0.4444444444444444,
              "#bd3786"
             ],
             [
              0.5555555555555556,
              "#d8576b"
             ],
             [
              0.6666666666666666,
              "#ed7953"
             ],
             [
              0.7777777777777778,
              "#fb9f3a"
             ],
             [
              0.8888888888888888,
              "#fdca26"
             ],
             [
              1,
              "#f0f921"
             ]
            ],
            "type": "histogram2d"
           }
          ],
          "histogram2dcontour": [
           {
            "colorbar": {
             "outlinewidth": 0,
             "ticks": ""
            },
            "colorscale": [
             [
              0,
              "#0d0887"
             ],
             [
              0.1111111111111111,
              "#46039f"
             ],
             [
              0.2222222222222222,
              "#7201a8"
             ],
             [
              0.3333333333333333,
              "#9c179e"
             ],
             [
              0.4444444444444444,
              "#bd3786"
             ],
             [
              0.5555555555555556,
              "#d8576b"
             ],
             [
              0.6666666666666666,
              "#ed7953"
             ],
             [
              0.7777777777777778,
              "#fb9f3a"
             ],
             [
              0.8888888888888888,
              "#fdca26"
             ],
             [
              1,
              "#f0f921"
             ]
            ],
            "type": "histogram2dcontour"
           }
          ],
          "mesh3d": [
           {
            "colorbar": {
             "outlinewidth": 0,
             "ticks": ""
            },
            "type": "mesh3d"
           }
          ],
          "parcoords": [
           {
            "line": {
             "colorbar": {
              "outlinewidth": 0,
              "ticks": ""
             }
            },
            "type": "parcoords"
           }
          ],
          "pie": [
           {
            "automargin": true,
            "type": "pie"
           }
          ],
          "scatter": [
           {
            "fillpattern": {
             "fillmode": "overlay",
             "size": 10,
             "solidity": 0.2
            },
            "type": "scatter"
           }
          ],
          "scatter3d": [
           {
            "line": {
             "colorbar": {
              "outlinewidth": 0,
              "ticks": ""
             }
            },
            "marker": {
             "colorbar": {
              "outlinewidth": 0,
              "ticks": ""
             }
            },
            "type": "scatter3d"
           }
          ],
          "scattercarpet": [
           {
            "marker": {
             "colorbar": {
              "outlinewidth": 0,
              "ticks": ""
             }
            },
            "type": "scattercarpet"
           }
          ],
          "scattergeo": [
           {
            "marker": {
             "colorbar": {
              "outlinewidth": 0,
              "ticks": ""
             }
            },
            "type": "scattergeo"
           }
          ],
          "scattergl": [
           {
            "marker": {
             "colorbar": {
              "outlinewidth": 0,
              "ticks": ""
             }
            },
            "type": "scattergl"
           }
          ],
          "scattermapbox": [
           {
            "marker": {
             "colorbar": {
              "outlinewidth": 0,
              "ticks": ""
             }
            },
            "type": "scattermapbox"
           }
          ],
          "scatterpolar": [
           {
            "marker": {
             "colorbar": {
              "outlinewidth": 0,
              "ticks": ""
             }
            },
            "type": "scatterpolar"
           }
          ],
          "scatterpolargl": [
           {
            "marker": {
             "colorbar": {
              "outlinewidth": 0,
              "ticks": ""
             }
            },
            "type": "scatterpolargl"
           }
          ],
          "scatterternary": [
           {
            "marker": {
             "colorbar": {
              "outlinewidth": 0,
              "ticks": ""
             }
            },
            "type": "scatterternary"
           }
          ],
          "surface": [
           {
            "colorbar": {
             "outlinewidth": 0,
             "ticks": ""
            },
            "colorscale": [
             [
              0,
              "#0d0887"
             ],
             [
              0.1111111111111111,
              "#46039f"
             ],
             [
              0.2222222222222222,
              "#7201a8"
             ],
             [
              0.3333333333333333,
              "#9c179e"
             ],
             [
              0.4444444444444444,
              "#bd3786"
             ],
             [
              0.5555555555555556,
              "#d8576b"
             ],
             [
              0.6666666666666666,
              "#ed7953"
             ],
             [
              0.7777777777777778,
              "#fb9f3a"
             ],
             [
              0.8888888888888888,
              "#fdca26"
             ],
             [
              1,
              "#f0f921"
             ]
            ],
            "type": "surface"
           }
          ],
          "table": [
           {
            "cells": {
             "fill": {
              "color": "#EBF0F8"
             },
             "line": {
              "color": "white"
             }
            },
            "header": {
             "fill": {
              "color": "#C8D4E3"
             },
             "line": {
              "color": "white"
             }
            },
            "type": "table"
           }
          ]
         },
         "layout": {
          "annotationdefaults": {
           "arrowcolor": "#2a3f5f",
           "arrowhead": 0,
           "arrowwidth": 1
          },
          "autotypenumbers": "strict",
          "coloraxis": {
           "colorbar": {
            "outlinewidth": 0,
            "ticks": ""
           }
          },
          "colorscale": {
           "diverging": [
            [
             0,
             "#8e0152"
            ],
            [
             0.1,
             "#c51b7d"
            ],
            [
             0.2,
             "#de77ae"
            ],
            [
             0.3,
             "#f1b6da"
            ],
            [
             0.4,
             "#fde0ef"
            ],
            [
             0.5,
             "#f7f7f7"
            ],
            [
             0.6,
             "#e6f5d0"
            ],
            [
             0.7,
             "#b8e186"
            ],
            [
             0.8,
             "#7fbc41"
            ],
            [
             0.9,
             "#4d9221"
            ],
            [
             1,
             "#276419"
            ]
           ],
           "sequential": [
            [
             0,
             "#0d0887"
            ],
            [
             0.1111111111111111,
             "#46039f"
            ],
            [
             0.2222222222222222,
             "#7201a8"
            ],
            [
             0.3333333333333333,
             "#9c179e"
            ],
            [
             0.4444444444444444,
             "#bd3786"
            ],
            [
             0.5555555555555556,
             "#d8576b"
            ],
            [
             0.6666666666666666,
             "#ed7953"
            ],
            [
             0.7777777777777778,
             "#fb9f3a"
            ],
            [
             0.8888888888888888,
             "#fdca26"
            ],
            [
             1,
             "#f0f921"
            ]
           ],
           "sequentialminus": [
            [
             0,
             "#0d0887"
            ],
            [
             0.1111111111111111,
             "#46039f"
            ],
            [
             0.2222222222222222,
             "#7201a8"
            ],
            [
             0.3333333333333333,
             "#9c179e"
            ],
            [
             0.4444444444444444,
             "#bd3786"
            ],
            [
             0.5555555555555556,
             "#d8576b"
            ],
            [
             0.6666666666666666,
             "#ed7953"
            ],
            [
             0.7777777777777778,
             "#fb9f3a"
            ],
            [
             0.8888888888888888,
             "#fdca26"
            ],
            [
             1,
             "#f0f921"
            ]
           ]
          },
          "colorway": [
           "#636efa",
           "#EF553B",
           "#00cc96",
           "#ab63fa",
           "#FFA15A",
           "#19d3f3",
           "#FF6692",
           "#B6E880",
           "#FF97FF",
           "#FECB52"
          ],
          "font": {
           "color": "#2a3f5f"
          },
          "geo": {
           "bgcolor": "white",
           "lakecolor": "white",
           "landcolor": "#E5ECF6",
           "showlakes": true,
           "showland": true,
           "subunitcolor": "white"
          },
          "hoverlabel": {
           "align": "left"
          },
          "hovermode": "closest",
          "mapbox": {
           "style": "light"
          },
          "paper_bgcolor": "white",
          "plot_bgcolor": "#E5ECF6",
          "polar": {
           "angularaxis": {
            "gridcolor": "white",
            "linecolor": "white",
            "ticks": ""
           },
           "bgcolor": "#E5ECF6",
           "radialaxis": {
            "gridcolor": "white",
            "linecolor": "white",
            "ticks": ""
           }
          },
          "scene": {
           "xaxis": {
            "backgroundcolor": "#E5ECF6",
            "gridcolor": "white",
            "gridwidth": 2,
            "linecolor": "white",
            "showbackground": true,
            "ticks": "",
            "zerolinecolor": "white"
           },
           "yaxis": {
            "backgroundcolor": "#E5ECF6",
            "gridcolor": "white",
            "gridwidth": 2,
            "linecolor": "white",
            "showbackground": true,
            "ticks": "",
            "zerolinecolor": "white"
           },
           "zaxis": {
            "backgroundcolor": "#E5ECF6",
            "gridcolor": "white",
            "gridwidth": 2,
            "linecolor": "white",
            "showbackground": true,
            "ticks": "",
            "zerolinecolor": "white"
           }
          },
          "shapedefaults": {
           "line": {
            "color": "#2a3f5f"
           }
          },
          "ternary": {
           "aaxis": {
            "gridcolor": "white",
            "linecolor": "white",
            "ticks": ""
           },
           "baxis": {
            "gridcolor": "white",
            "linecolor": "white",
            "ticks": ""
           },
           "bgcolor": "#E5ECF6",
           "caxis": {
            "gridcolor": "white",
            "linecolor": "white",
            "ticks": ""
           }
          },
          "title": {
           "x": 0.05
          },
          "xaxis": {
           "automargin": true,
           "gridcolor": "white",
           "linecolor": "white",
           "ticks": "",
           "title": {
            "standoff": 15
           },
           "zerolinecolor": "white",
           "zerolinewidth": 2
          },
          "yaxis": {
           "automargin": true,
           "gridcolor": "white",
           "linecolor": "white",
           "ticks": "",
           "title": {
            "standoff": 15
           },
           "zerolinecolor": "white",
           "zerolinewidth": 2
          }
         }
        },
        "title": {
         "text": "LAST 10 OF REGISTERED USERS"
        },
        "width": 600,
        "xaxis": {
         "anchor": "y",
         "domain": [
          0,
          1
         ],
         "title": {
          "text": "States"
         }
        },
        "yaxis": {
         "anchor": "x",
         "domain": [
          0,
          1
         ],
         "title": {
          "text": "RegisteredUsers"
         }
        }
       }
      }
     },
     "metadata": {},
     "output_type": "display_data"
    },
    {
     "data": {
      "application/vnd.plotly.v1+json": {
       "config": {
        "plotlyServerURL": "https://plot.ly"
       },
       "data": [
        {
         "alignmentgroup": "True",
         "hovertemplate": "<b>%{hovertext}</b><br><br>RegisteredUsers=%{x}<br>States=%{y}<extra></extra>",
         "hovertext": [
          "Lakshadweep",
          "Andaman & Nicobar",
          "Mizoram",
          "Ladakh",
          "Meghalaya",
          "Nagaland",
          "Sikkim",
          "Arunachal Pradesh",
          "Manipur",
          "Tripura",
          "Jammu & Kashmir",
          "Puducherry",
          "Goa",
          "Kerala",
          "Assam",
          "Chandigarh",
          "Dadra and Nagar Haveli and Daman and Diu",
          "Himachal Pradesh",
          "Odisha",
          "West Bengal",
          "Jharkhand",
          "Chhattisgarh",
          "Tamil Nadu",
          "Uttarakhand",
          "Punjab",
          "Andhra Pradesh",
          "Bihar",
          "Madhya Pradesh",
          "Gujarat",
          "Rajasthan",
          "Telangana",
          "Haryana",
          "Maharashtra",
          "Uttar Pradesh",
          "Karnataka",
          "Delhi"
         ],
         "legendgroup": "",
         "marker": {
          "color": "rgb(255,0,0)",
          "pattern": {
           "shape": ""
          }
         },
         "name": "",
         "offsetgroup": "",
         "orientation": "h",
         "showlegend": false,
         "textposition": "auto",
         "type": "bar",
         "x": [
          574.6779,
          5002.0692,
          5629.6462,
          6724.1115,
          9832.3577,
          12948.4923,
          13110.7346,
          14525.2077,
          15629.5231,
          16531.5154,
          20977.0538,
          23372.0808,
          24833.7269,
          28659.2231,
          32345.1038,
          33606.3538,
          37640.2991,
          39778.6808,
          79897.1269,
          82023.5115,
          93968.5308,
          101150.4423,
          103409.15,
          107403.5192,
          117455.7462,
          147010.8,
          150052.3231,
          162983.0423,
          170943.95,
          206370.3962,
          224491.8846,
          235154.1077,
          273926.8077,
          273969.9538,
          284462.2962,
          308094.0308
         ],
         "xaxis": "x",
         "y": [
          "Lakshadweep",
          "Andaman & Nicobar",
          "Mizoram",
          "Ladakh",
          "Meghalaya",
          "Nagaland",
          "Sikkim",
          "Arunachal Pradesh",
          "Manipur",
          "Tripura",
          "Jammu & Kashmir",
          "Puducherry",
          "Goa",
          "Kerala",
          "Assam",
          "Chandigarh",
          "Dadra and Nagar Haveli and Daman and Diu",
          "Himachal Pradesh",
          "Odisha",
          "West Bengal",
          "Jharkhand",
          "Chhattisgarh",
          "Tamil Nadu",
          "Uttarakhand",
          "Punjab",
          "Andhra Pradesh",
          "Bihar",
          "Madhya Pradesh",
          "Gujarat",
          "Rajasthan",
          "Telangana",
          "Haryana",
          "Maharashtra",
          "Uttar Pradesh",
          "Karnataka",
          "Delhi"
         ],
         "yaxis": "y"
        }
       ],
       "layout": {
        "barmode": "relative",
        "height": 800,
        "legend": {
         "tracegroupgap": 0
        },
        "template": {
         "data": {
          "bar": [
           {
            "error_x": {
             "color": "#2a3f5f"
            },
            "error_y": {
             "color": "#2a3f5f"
            },
            "marker": {
             "line": {
              "color": "#E5ECF6",
              "width": 0.5
             },
             "pattern": {
              "fillmode": "overlay",
              "size": 10,
              "solidity": 0.2
             }
            },
            "type": "bar"
           }
          ],
          "barpolar": [
           {
            "marker": {
             "line": {
              "color": "#E5ECF6",
              "width": 0.5
             },
             "pattern": {
              "fillmode": "overlay",
              "size": 10,
              "solidity": 0.2
             }
            },
            "type": "barpolar"
           }
          ],
          "carpet": [
           {
            "aaxis": {
             "endlinecolor": "#2a3f5f",
             "gridcolor": "white",
             "linecolor": "white",
             "minorgridcolor": "white",
             "startlinecolor": "#2a3f5f"
            },
            "baxis": {
             "endlinecolor": "#2a3f5f",
             "gridcolor": "white",
             "linecolor": "white",
             "minorgridcolor": "white",
             "startlinecolor": "#2a3f5f"
            },
            "type": "carpet"
           }
          ],
          "choropleth": [
           {
            "colorbar": {
             "outlinewidth": 0,
             "ticks": ""
            },
            "type": "choropleth"
           }
          ],
          "contour": [
           {
            "colorbar": {
             "outlinewidth": 0,
             "ticks": ""
            },
            "colorscale": [
             [
              0,
              "#0d0887"
             ],
             [
              0.1111111111111111,
              "#46039f"
             ],
             [
              0.2222222222222222,
              "#7201a8"
             ],
             [
              0.3333333333333333,
              "#9c179e"
             ],
             [
              0.4444444444444444,
              "#bd3786"
             ],
             [
              0.5555555555555556,
              "#d8576b"
             ],
             [
              0.6666666666666666,
              "#ed7953"
             ],
             [
              0.7777777777777778,
              "#fb9f3a"
             ],
             [
              0.8888888888888888,
              "#fdca26"
             ],
             [
              1,
              "#f0f921"
             ]
            ],
            "type": "contour"
           }
          ],
          "contourcarpet": [
           {
            "colorbar": {
             "outlinewidth": 0,
             "ticks": ""
            },
            "type": "contourcarpet"
           }
          ],
          "heatmap": [
           {
            "colorbar": {
             "outlinewidth": 0,
             "ticks": ""
            },
            "colorscale": [
             [
              0,
              "#0d0887"
             ],
             [
              0.1111111111111111,
              "#46039f"
             ],
             [
              0.2222222222222222,
              "#7201a8"
             ],
             [
              0.3333333333333333,
              "#9c179e"
             ],
             [
              0.4444444444444444,
              "#bd3786"
             ],
             [
              0.5555555555555556,
              "#d8576b"
             ],
             [
              0.6666666666666666,
              "#ed7953"
             ],
             [
              0.7777777777777778,
              "#fb9f3a"
             ],
             [
              0.8888888888888888,
              "#fdca26"
             ],
             [
              1,
              "#f0f921"
             ]
            ],
            "type": "heatmap"
           }
          ],
          "heatmapgl": [
           {
            "colorbar": {
             "outlinewidth": 0,
             "ticks": ""
            },
            "colorscale": [
             [
              0,
              "#0d0887"
             ],
             [
              0.1111111111111111,
              "#46039f"
             ],
             [
              0.2222222222222222,
              "#7201a8"
             ],
             [
              0.3333333333333333,
              "#9c179e"
             ],
             [
              0.4444444444444444,
              "#bd3786"
             ],
             [
              0.5555555555555556,
              "#d8576b"
             ],
             [
              0.6666666666666666,
              "#ed7953"
             ],
             [
              0.7777777777777778,
              "#fb9f3a"
             ],
             [
              0.8888888888888888,
              "#fdca26"
             ],
             [
              1,
              "#f0f921"
             ]
            ],
            "type": "heatmapgl"
           }
          ],
          "histogram": [
           {
            "marker": {
             "pattern": {
              "fillmode": "overlay",
              "size": 10,
              "solidity": 0.2
             }
            },
            "type": "histogram"
           }
          ],
          "histogram2d": [
           {
            "colorbar": {
             "outlinewidth": 0,
             "ticks": ""
            },
            "colorscale": [
             [
              0,
              "#0d0887"
             ],
             [
              0.1111111111111111,
              "#46039f"
             ],
             [
              0.2222222222222222,
              "#7201a8"
             ],
             [
              0.3333333333333333,
              "#9c179e"
             ],
             [
              0.4444444444444444,
              "#bd3786"
             ],
             [
              0.5555555555555556,
              "#d8576b"
             ],
             [
              0.6666666666666666,
              "#ed7953"
             ],
             [
              0.7777777777777778,
              "#fb9f3a"
             ],
             [
              0.8888888888888888,
              "#fdca26"
             ],
             [
              1,
              "#f0f921"
             ]
            ],
            "type": "histogram2d"
           }
          ],
          "histogram2dcontour": [
           {
            "colorbar": {
             "outlinewidth": 0,
             "ticks": ""
            },
            "colorscale": [
             [
              0,
              "#0d0887"
             ],
             [
              0.1111111111111111,
              "#46039f"
             ],
             [
              0.2222222222222222,
              "#7201a8"
             ],
             [
              0.3333333333333333,
              "#9c179e"
             ],
             [
              0.4444444444444444,
              "#bd3786"
             ],
             [
              0.5555555555555556,
              "#d8576b"
             ],
             [
              0.6666666666666666,
              "#ed7953"
             ],
             [
              0.7777777777777778,
              "#fb9f3a"
             ],
             [
              0.8888888888888888,
              "#fdca26"
             ],
             [
              1,
              "#f0f921"
             ]
            ],
            "type": "histogram2dcontour"
           }
          ],
          "mesh3d": [
           {
            "colorbar": {
             "outlinewidth": 0,
             "ticks": ""
            },
            "type": "mesh3d"
           }
          ],
          "parcoords": [
           {
            "line": {
             "colorbar": {
              "outlinewidth": 0,
              "ticks": ""
             }
            },
            "type": "parcoords"
           }
          ],
          "pie": [
           {
            "automargin": true,
            "type": "pie"
           }
          ],
          "scatter": [
           {
            "fillpattern": {
             "fillmode": "overlay",
             "size": 10,
             "solidity": 0.2
            },
            "type": "scatter"
           }
          ],
          "scatter3d": [
           {
            "line": {
             "colorbar": {
              "outlinewidth": 0,
              "ticks": ""
             }
            },
            "marker": {
             "colorbar": {
              "outlinewidth": 0,
              "ticks": ""
             }
            },
            "type": "scatter3d"
           }
          ],
          "scattercarpet": [
           {
            "marker": {
             "colorbar": {
              "outlinewidth": 0,
              "ticks": ""
             }
            },
            "type": "scattercarpet"
           }
          ],
          "scattergeo": [
           {
            "marker": {
             "colorbar": {
              "outlinewidth": 0,
              "ticks": ""
             }
            },
            "type": "scattergeo"
           }
          ],
          "scattergl": [
           {
            "marker": {
             "colorbar": {
              "outlinewidth": 0,
              "ticks": ""
             }
            },
            "type": "scattergl"
           }
          ],
          "scattermapbox": [
           {
            "marker": {
             "colorbar": {
              "outlinewidth": 0,
              "ticks": ""
             }
            },
            "type": "scattermapbox"
           }
          ],
          "scatterpolar": [
           {
            "marker": {
             "colorbar": {
              "outlinewidth": 0,
              "ticks": ""
             }
            },
            "type": "scatterpolar"
           }
          ],
          "scatterpolargl": [
           {
            "marker": {
             "colorbar": {
              "outlinewidth": 0,
              "ticks": ""
             }
            },
            "type": "scatterpolargl"
           }
          ],
          "scatterternary": [
           {
            "marker": {
             "colorbar": {
              "outlinewidth": 0,
              "ticks": ""
             }
            },
            "type": "scatterternary"
           }
          ],
          "surface": [
           {
            "colorbar": {
             "outlinewidth": 0,
             "ticks": ""
            },
            "colorscale": [
             [
              0,
              "#0d0887"
             ],
             [
              0.1111111111111111,
              "#46039f"
             ],
             [
              0.2222222222222222,
              "#7201a8"
             ],
             [
              0.3333333333333333,
              "#9c179e"
             ],
             [
              0.4444444444444444,
              "#bd3786"
             ],
             [
              0.5555555555555556,
              "#d8576b"
             ],
             [
              0.6666666666666666,
              "#ed7953"
             ],
             [
              0.7777777777777778,
              "#fb9f3a"
             ],
             [
              0.8888888888888888,
              "#fdca26"
             ],
             [
              1,
              "#f0f921"
             ]
            ],
            "type": "surface"
           }
          ],
          "table": [
           {
            "cells": {
             "fill": {
              "color": "#EBF0F8"
             },
             "line": {
              "color": "white"
             }
            },
            "header": {
             "fill": {
              "color": "#C8D4E3"
             },
             "line": {
              "color": "white"
             }
            },
            "type": "table"
           }
          ]
         },
         "layout": {
          "annotationdefaults": {
           "arrowcolor": "#2a3f5f",
           "arrowhead": 0,
           "arrowwidth": 1
          },
          "autotypenumbers": "strict",
          "coloraxis": {
           "colorbar": {
            "outlinewidth": 0,
            "ticks": ""
           }
          },
          "colorscale": {
           "diverging": [
            [
             0,
             "#8e0152"
            ],
            [
             0.1,
             "#c51b7d"
            ],
            [
             0.2,
             "#de77ae"
            ],
            [
             0.3,
             "#f1b6da"
            ],
            [
             0.4,
             "#fde0ef"
            ],
            [
             0.5,
             "#f7f7f7"
            ],
            [
             0.6,
             "#e6f5d0"
            ],
            [
             0.7,
             "#b8e186"
            ],
            [
             0.8,
             "#7fbc41"
            ],
            [
             0.9,
             "#4d9221"
            ],
            [
             1,
             "#276419"
            ]
           ],
           "sequential": [
            [
             0,
             "#0d0887"
            ],
            [
             0.1111111111111111,
             "#46039f"
            ],
            [
             0.2222222222222222,
             "#7201a8"
            ],
            [
             0.3333333333333333,
             "#9c179e"
            ],
            [
             0.4444444444444444,
             "#bd3786"
            ],
            [
             0.5555555555555556,
             "#d8576b"
            ],
            [
             0.6666666666666666,
             "#ed7953"
            ],
            [
             0.7777777777777778,
             "#fb9f3a"
            ],
            [
             0.8888888888888888,
             "#fdca26"
            ],
            [
             1,
             "#f0f921"
            ]
           ],
           "sequentialminus": [
            [
             0,
             "#0d0887"
            ],
            [
             0.1111111111111111,
             "#46039f"
            ],
            [
             0.2222222222222222,
             "#7201a8"
            ],
            [
             0.3333333333333333,
             "#9c179e"
            ],
            [
             0.4444444444444444,
             "#bd3786"
            ],
            [
             0.5555555555555556,
             "#d8576b"
            ],
            [
             0.6666666666666666,
             "#ed7953"
            ],
            [
             0.7777777777777778,
             "#fb9f3a"
            ],
            [
             0.8888888888888888,
             "#fdca26"
            ],
            [
             1,
             "#f0f921"
            ]
           ]
          },
          "colorway": [
           "#636efa",
           "#EF553B",
           "#00cc96",
           "#ab63fa",
           "#FFA15A",
           "#19d3f3",
           "#FF6692",
           "#B6E880",
           "#FF97FF",
           "#FECB52"
          ],
          "font": {
           "color": "#2a3f5f"
          },
          "geo": {
           "bgcolor": "white",
           "lakecolor": "white",
           "landcolor": "#E5ECF6",
           "showlakes": true,
           "showland": true,
           "subunitcolor": "white"
          },
          "hoverlabel": {
           "align": "left"
          },
          "hovermode": "closest",
          "mapbox": {
           "style": "light"
          },
          "paper_bgcolor": "white",
          "plot_bgcolor": "#E5ECF6",
          "polar": {
           "angularaxis": {
            "gridcolor": "white",
            "linecolor": "white",
            "ticks": ""
           },
           "bgcolor": "#E5ECF6",
           "radialaxis": {
            "gridcolor": "white",
            "linecolor": "white",
            "ticks": ""
           }
          },
          "scene": {
           "xaxis": {
            "backgroundcolor": "#E5ECF6",
            "gridcolor": "white",
            "gridwidth": 2,
            "linecolor": "white",
            "showbackground": true,
            "ticks": "",
            "zerolinecolor": "white"
           },
           "yaxis": {
            "backgroundcolor": "#E5ECF6",
            "gridcolor": "white",
            "gridwidth": 2,
            "linecolor": "white",
            "showbackground": true,
            "ticks": "",
            "zerolinecolor": "white"
           },
           "zaxis": {
            "backgroundcolor": "#E5ECF6",
            "gridcolor": "white",
            "gridwidth": 2,
            "linecolor": "white",
            "showbackground": true,
            "ticks": "",
            "zerolinecolor": "white"
           }
          },
          "shapedefaults": {
           "line": {
            "color": "#2a3f5f"
           }
          },
          "ternary": {
           "aaxis": {
            "gridcolor": "white",
            "linecolor": "white",
            "ticks": ""
           },
           "baxis": {
            "gridcolor": "white",
            "linecolor": "white",
            "ticks": ""
           },
           "bgcolor": "#E5ECF6",
           "caxis": {
            "gridcolor": "white",
            "linecolor": "white",
            "ticks": ""
           }
          },
          "title": {
           "x": 0.05
          },
          "xaxis": {
           "automargin": true,
           "gridcolor": "white",
           "linecolor": "white",
           "ticks": "",
           "title": {
            "standoff": 15
           },
           "zerolinecolor": "white",
           "zerolinewidth": 2
          },
          "yaxis": {
           "automargin": true,
           "gridcolor": "white",
           "linecolor": "white",
           "ticks": "",
           "title": {
            "standoff": 15
           },
           "zerolinecolor": "white",
           "zerolinewidth": 2
          }
         }
        },
        "title": {
         "text": "AVERAGE 10 OF REGISTERED USERS"
        },
        "width": 1000,
        "xaxis": {
         "anchor": "y",
         "domain": [
          0,
          1
         ],
         "title": {
          "text": "RegisteredUsers"
         }
        },
        "yaxis": {
         "anchor": "x",
         "domain": [
          0,
          1
         ],
         "title": {
          "text": "States"
         }
        }
       }
      }
     },
     "metadata": {},
     "output_type": "display_data"
    }
   ],
   "source": [
    "top_chart_registered_users('top_user')"
   ]
  },
  {
   "cell_type": "markdown",
   "metadata": {},
   "source": [
    "## Aggregated_insurance"
   ]
  },
  {
   "cell_type": "code",
   "execution_count": null,
   "metadata": {},
   "outputs": [],
   "source": [
    "tac_Y = Transaction_amount_count_Y(Aggre_insurance, 2021)"
   ]
  },
  {
   "cell_type": "code",
   "execution_count": null,
   "metadata": {},
   "outputs": [],
   "source": [
    "Transaction_amount_count_Y_Q(tac_Y, 2)"
   ]
  },
  {
   "cell_type": "markdown",
   "metadata": {},
   "source": [
    "## Aggregated_transaction"
   ]
  },
  {
   "cell_type": "code",
   "execution_count": null,
   "metadata": {},
   "outputs": [],
   "source": [
    "Aggre_tran_tac_Y = Transaction_amount_count_Y(Aggre_transaction, 2021)"
   ]
  },
  {
   "cell_type": "code",
   "execution_count": null,
   "metadata": {},
   "outputs": [],
   "source": [
    "Aggre_Tran_Transaction_type(Aggre_tran_tac_Y, \"Tamil Nadu\")"
   ]
  },
  {
   "cell_type": "code",
   "execution_count": null,
   "metadata": {},
   "outputs": [],
   "source": [
    "Aggre_tran_tac_Y_Q = Transaction_amount_count_Y_Q(Aggre_tran_tac_Y, 3)"
   ]
  },
  {
   "cell_type": "code",
   "execution_count": null,
   "metadata": {},
   "outputs": [],
   "source": [
    "Aggre_Tran_Transaction_type(Aggre_tran_tac_Y_Q, \"Tamil Nadu\")"
   ]
  },
  {
   "cell_type": "markdown",
   "metadata": {},
   "source": [
    "## Aggreted_user"
   ]
  },
  {
   "cell_type": "code",
   "execution_count": null,
   "metadata": {},
   "outputs": [],
   "source": [
    "Aggre_user_Y = Aggre_user_plot_1(Aggre_user, 2020)"
   ]
  },
  {
   "cell_type": "code",
   "execution_count": null,
   "metadata": {},
   "outputs": [],
   "source": [
    "Aggre_user_Y_Q = Aggre_user_plot_2(Aggre_user_Y, 2)"
   ]
  },
  {
   "cell_type": "markdown",
   "metadata": {},
   "source": [
    "## Map_Insurance"
   ]
  },
  {
   "cell_type": "code",
   "execution_count": null,
   "metadata": {},
   "outputs": [],
   "source": [
    "Map_insur_tac_Y = Transaction_amount_count_Y(map_insurance, 2023)"
   ]
  },
  {
   "cell_type": "code",
   "execution_count": null,
   "metadata": {},
   "outputs": [],
   "source": [
    "Map_insur_District(Map_insur_tac_Y, \"West Bengal\")"
   ]
  },
  {
   "cell_type": "code",
   "execution_count": null,
   "metadata": {},
   "outputs": [],
   "source": [
    "Map_insur_tac_Y_Q = Transaction_amount_count_Y_Q(Map_insur_tac_Y, 3)"
   ]
  },
  {
   "cell_type": "code",
   "execution_count": null,
   "metadata": {},
   "outputs": [],
   "source": [
    "Map_insur_District(Map_insur_tac_Y_Q, \"Tamil Nadu\")"
   ]
  },
  {
   "cell_type": "code",
   "execution_count": null,
   "metadata": {},
   "outputs": [],
   "source": [
    "map_insurance"
   ]
  },
  {
   "cell_type": "markdown",
   "metadata": {},
   "source": [
    "## map_transaction"
   ]
  },
  {
   "cell_type": "code",
   "execution_count": null,
   "metadata": {},
   "outputs": [],
   "source": [
    "Map_tran_tac_Y = Transaction_amount_count_Y(map_transaction, 2023)"
   ]
  },
  {
   "cell_type": "code",
   "execution_count": null,
   "metadata": {},
   "outputs": [],
   "source": [
    "Map_insur_District(Map_tran_tac_Y, \"West Bengal\")"
   ]
  },
  {
   "cell_type": "code",
   "execution_count": null,
   "metadata": {},
   "outputs": [],
   "source": [
    "Map_tran_tac_Y_Q = Transaction_amount_count_Y_Q(Map_tran_tac_Y, 3)"
   ]
  },
  {
   "cell_type": "code",
   "execution_count": null,
   "metadata": {},
   "outputs": [],
   "source": [
    "Map_insur_District(Map_tran_tac_Y_Q, \"Tamil Nadu\")"
   ]
  },
  {
   "cell_type": "code",
   "execution_count": null,
   "metadata": {},
   "outputs": [],
   "source": [
    "map_transaction"
   ]
  },
  {
   "cell_type": "markdown",
   "metadata": {},
   "source": [
    "## map_user"
   ]
  },
  {
   "cell_type": "code",
   "execution_count": null,
   "metadata": {},
   "outputs": [],
   "source": [
    "Map_user_Y = map_user_plot_1(map_user, 2020)"
   ]
  },
  {
   "cell_type": "code",
   "execution_count": null,
   "metadata": {},
   "outputs": [],
   "source": [
    "Map_user_Y_Q = map_user_plot_2(Map_user_Y, 2)"
   ]
  },
  {
   "cell_type": "code",
   "execution_count": null,
   "metadata": {},
   "outputs": [],
   "source": [
    "map_user_plot_3(Map_user_Y_Q, 'Tamil Nadu')\n"
   ]
  },
  {
   "cell_type": "code",
   "execution_count": null,
   "metadata": {},
   "outputs": [],
   "source": [
    "map_user"
   ]
  },
  {
   "cell_type": "markdown",
   "metadata": {},
   "source": [
    "## top_insurance"
   ]
  },
  {
   "cell_type": "code",
   "execution_count": null,
   "metadata": {},
   "outputs": [],
   "source": [
    "Top_insur_tac_Y = Transaction_amount_count_Y(top_insurance, 2023)"
   ]
  },
  {
   "cell_type": "code",
   "execution_count": null,
   "metadata": {},
   "outputs": [],
   "source": [
    "Top_insurance_plot_1(Top_insur_tac_Y, 'West Bengal')"
   ]
  },
  {
   "cell_type": "code",
   "execution_count": null,
   "metadata": {},
   "outputs": [],
   "source": [
    "top_insur_tac_Y_Q = Transaction_amount_count_Y_Q(Top_insur_tac_Y, 3)"
   ]
  },
  {
   "cell_type": "markdown",
   "metadata": {},
   "source": [
    "## Top Transaction"
   ]
  },
  {
   "cell_type": "code",
   "execution_count": null,
   "metadata": {},
   "outputs": [],
   "source": [
    "Top_tran_tac_Y = Transaction_amount_count_Y(top_transaction, 2023)"
   ]
  },
  {
   "cell_type": "code",
   "execution_count": null,
   "metadata": {},
   "outputs": [],
   "source": [
    "Top_insurance_plot_1(Top_tran_tac_Y, 'West Bengal')"
   ]
  },
  {
   "cell_type": "code",
   "execution_count": null,
   "metadata": {},
   "outputs": [],
   "source": [
    "top_tran_tac_Y_Q = Transaction_amount_count_Y_Q(Top_tran_tac_Y, 3)"
   ]
  },
  {
   "cell_type": "markdown",
   "metadata": {},
   "source": [
    "## Top_user"
   ]
  },
  {
   "cell_type": "code",
   "execution_count": null,
   "metadata": {},
   "outputs": [],
   "source": [
    "Top_user_Y = top_user_plot_1(top_user, 2021)"
   ]
  },
  {
   "cell_type": "code",
   "execution_count": 113,
   "metadata": {},
   "outputs": [],
   "source": [
    "# top_user_plot_2\n",
    "\n",
    "def top_user_plot_2(df, state):    \n",
    "    \n",
    "    tuys = df[df['States'] == state]\n",
    "\n",
    "    tuys.reset_index(drop= True, inplace= True)\n",
    "\n",
    "    fig_top_pot_2 = px.bar(tuys, x = \"Quarter\", y = \"RegisteredUsers\", title= \"REGISTERED USERS, PINCODES, QUARTER\", width = 1000, height = 800, color = \"RegisteredUsers\", hover_data= \"Pincodes\", color_continuous_scale= px.colors.sequential.Magenta)\n",
    "\n",
    "    fig_top_pot_2.show()"
   ]
  },
  {
   "cell_type": "code",
   "execution_count": null,
   "metadata": {},
   "outputs": [],
   "source": [
    "top_user_plot_2(Top_user_Y, 'West Bengal')"
   ]
  },
  {
   "cell_type": "code",
   "execution_count": null,
   "metadata": {},
   "outputs": [],
   "source": []
  }
 ],
 "metadata": {
  "kernelspec": {
   "display_name": "Python 3",
   "language": "python",
   "name": "python3"
  },
  "language_info": {
   "codemirror_mode": {
    "name": "ipython",
    "version": 3
   },
   "file_extension": ".py",
   "mimetype": "text/x-python",
   "name": "python",
   "nbconvert_exporter": "python",
   "pygments_lexer": "ipython3",
   "version": "3.13.1"
  }
 },
 "nbformat": 4,
 "nbformat_minor": 2
}
